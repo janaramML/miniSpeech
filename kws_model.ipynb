{
  "nbformat": 4,
  "nbformat_minor": 0,
  "metadata": {
    "colab": {
      "name": "audio_mfcc_models.ipynb",
      "provenance": [],
      "gpuType": "T4"
    },
    "kernelspec": {
      "name": "python3",
      "display_name": "Python 3"
    },
    "language_info": {
      "name": "python"
    },
    "accelerator": "GPU"
  },
  "cells": [
    {
      "cell_type": "code",
      "metadata": {
        "id": "08vsvdRmyDvC"
      },
      "source": [
        "import os\n",
        "import pathlib\n",
        "import matplotlib.pyplot as plt\n",
        "import numpy as np\n",
        "import seaborn as sns\n",
        "\n",
        "\n",
        "import tensorflow as tf\n",
        "from copy import deepcopy\n",
        "from tqdm import tqdm\n",
        "\n",
        "\n",
        "from tensorflow.keras.layers.experimental import preprocessing\n",
        "from tensorflow.keras import layers\n",
        "from tensorflow.keras import models\n",
        "from IPython import display\n",
        "\n",
        "from tensorflow.python.ops import gen_audio_ops as audio_ops\n",
        "#from tensorflow.op.audio import Mfcc\n",
        "from tensorflow.python.util import compat\n",
        "\n",
        "import io\n",
        "#tf.compat.v1.disable_eager_execution()\n",
        "\n",
        "\n",
        "# Set seed for experiment reproducibility\n",
        "seed = 42\n",
        "tf.random.set_seed(seed)\n",
        "np.random.seed(seed)\n"
      ],
      "execution_count": 6,
      "outputs": []
    },
    {
      "cell_type": "code",
      "source": [
        "class config:\n",
        "  DIRECTORY_PATH = \"./KeyWord Spotting\"\n",
        "  DATADIR_PATH = DIRECTORY_PATH + \"/data\"\n",
        "  BASELINE_CHECKPOINT_PATH = DIRECTORY_PATH + \"/models/\"\n",
        "  POST_TRAINING_QUANTIZATION_PATH = DIRECTORY_PATH + \"/models/post_training_quantization\"\n",
        "\n",
        "  TRAINING_DATA_SIZE = 0.8\n",
        "  VALIDATION_DATA_SIZE = 0.2\n",
        "  TEST_DATA_SIZE = 0.2\n",
        "  BATCH_SIZE = 64\n",
        "  NUM_EPOCHS = 150\n",
        "  LEARNING_RATE = 0.0001\n",
        "\n",
        "class Params:\n",
        "  sample_rate: float\n",
        "  stft_window_useconds : float\n",
        "  stft_hop_useconds: float\n",
        "  mel_bands : int\n",
        "  mel_min_hz : float\n",
        "  mel_max_hz : float\n",
        "  log_offset : float = 0.001\n",
        "  patch_window_seconds : float = 0.96\n",
        "  path_hop_seconds : float = 0.48\n",
        "\n",
        "  def __init__(self, sample_rate,stft_window,stft_hop,mel_bins,min_hz,max_hz):\n",
        "     self.sample_rate = sample_rate\n",
        "     self.stft_window_useconds = stft_window\n",
        "     self.stft_hop_useconds = stft_hop\n",
        "     self.mel_bands = mel_bins\n",
        "     self.mel_min_hz = min_hz\n",
        "     self.mel_max_hz = max_hz\n",
        "\n",
        "  @property\n",
        "  def patch_frames(self):\n",
        "    return (int(round(self.patch_window_seconds / self.stft_hop_seconds)))\n",
        "\n",
        "mel_bins =40\n",
        "max_hz = 8000\n",
        "min_hz = 0\n",
        "stft_window =30\n",
        "stft_hop = 10\n",
        "sample_rate = 16000\n",
        "\n",
        "_params = Params(sample_rate,stft_window,stft_hop,mel_bins,min_hz,max_hz)\n",
        "kws_config = config\n"
      ],
      "metadata": {
        "id": "IajqvdkG6HfA"
      },
      "execution_count": 7,
      "outputs": []
    },
    {
      "cell_type": "code",
      "metadata": {
        "id": "ftWCo8Op_-Rv"
      },
      "source": [
        "def download_data(data_dir):\n",
        "  \"\"\"\n",
        "  Function to load the train and test dataset\n",
        "  \"\"\"\n",
        "  if not data_dir.exists():\n",
        "    tf.keras.utils.get_file(\n",
        "      'mini_speech_commands.zip',\n",
        "      origin=\"http://storage.googleapis.com/download.tensorflow.org/data/mini_speech_commands.zip\",\n",
        "      extract=True,\n",
        "      cache_dir='.', cache_subdir=data_dir)\n",
        "\n",
        "def get_commands(data_dir):\n",
        "  \"\"\"\n",
        "  Function to load labels\n",
        "  \"\"\"\n",
        "  if pathlib.Path(data_dir).exists():\n",
        "     commands = np.array(tf.io.gfile.listdir(str(data_dir)))\n",
        "     commands = commands[commands != 'README.md']\n",
        "     print('Commands:', commands)\n",
        "     return commands"
      ],
      "execution_count": 12,
      "outputs": []
    },
    {
      "cell_type": "code",
      "metadata": {
        "id": "3CS3Dqi41HUO"
      },
      "source": [
        "def get_audio(data_dir):\n",
        "  \"\"\"\n",
        "   function to extract the audio files and into a list\n",
        "  \"\"\"\n",
        "  files = []\n",
        "  #for i in commands:\n",
        "  #  filenames += tf.io.gfile.glob(str(data_dir) + '/' + i + '/*')\n",
        "  files = tf.io.gfile.glob(str(data_dir) + '/*/*')\n",
        "  files = tf.random.shuffle(files)\n",
        "  num_samples = len(files)\n",
        "  print('Number of total examples:', num_samples)\n",
        "  commands = get_commands(data_dir)\n",
        "  print('Number of examples per label:',\n",
        "          len(tf.io.gfile.listdir(str(data_dir/commands[0]))))\n",
        "  return files\n",
        "\n",
        "#go_filenames = tf.io.gfile.glob(str(data_dir) + '/go/*')\n",
        "#no_filenames = tf.io.gfile.glob(str(data_dir) + '/no/*')\n",
        "#print('Example file tensor:', filenames[0])\n",
        "\n",
        "# Obtain Training and Validation Data Splits\n",
        "def get_data_split(data_dir):\n",
        "  \"\"\"\n",
        "   Obtain Training and Validation Data Splits\n",
        "  \"\"\"\n",
        "  download_data(pathlib.Path(data_dir))\n",
        "  data_dir = data_dir + '/mini_speech_commands'\n",
        "  audio_files = get_audio(pathlib.Path(data_dir))\n",
        "  total_data = len(audio_files)\n",
        "  train_size = int(kws_config.TRAINING_DATA_SIZE*total_data)\n",
        "  val_size = int(kws_config.VALIDATION_DATA_SIZE*total_data)\n",
        "  test_size = int(kws_config.TEST_DATA_SIZE*total_data)\n",
        "  train_files = audio_files[:train_size]\n",
        "  val_files = audio_files[train_size:train_size+val_size]\n",
        "  test_files = audio_files[-test_size:]\n",
        "  print('Training set size', len(train_files))\n",
        "  print('Validation set size', len(val_files))\n",
        "  print('Test set size', len(test_files))\n",
        "  return train_files,val_files,test_files\n"
      ],
      "execution_count": 25,
      "outputs": []
    },
    {
      "cell_type": "code",
      "metadata": {
        "id": "gpDd43EI2yWc"
      },
      "source": [
        "#reading audio files\n",
        "# tf.audio.decode_wav convert wav file to numberical tensor\n",
        "\n",
        "# sample rate of the wave is 16khz values representing (amplitude) -32768, 32767\n",
        "#tf.audio.decode_wav normalize the values to the range [-1,1]\n",
        "\n",
        "def decode_audio(audio_wave):\n",
        "  audio_wav, _ = tf.audio.decode_wav(audio_wave,desired_channels=1,desired_samples=16000)\n",
        "  return tf.squeeze(audio_wav, axis=-1)\n",
        "  #foreground_volume_placeholder_ = tf.compat.v1.placeholder(\n",
        "  #        tf.float32, [], name='foreground_volume')\n",
        "  #scaled_foreground = tf.multiply(audio_wave,\n",
        "  #                                    foreground_volume_placeholder_)\n",
        "      # Shift the sample's start position, and pad any gaps with zeros.\n",
        "  #time_shift_padding_placeholder_ = tf.compat.v1.placeholder(\n",
        "  #        tf.int32, [2, 2], name='time_shift_padding')\n",
        "  #time_shift_offset_placeholder_ = tf.compat.v1.placeholder(\n",
        "  #        tf.int32, [2], name='time_shift_offset')\n",
        "  #padded_foreground = tf.pad(\n",
        "  #        tensor=scaled_foreground,\n",
        "  #        paddings=time_shift_padding_placeholder_,\n",
        "  #        mode='CONSTANT')\n",
        "  #sliced_foreground = tf.slice(padded_foreground,\n",
        "  #                                 time_shift_offset_placeholder_,\n",
        "  #                                 [desired_samples, -1])\n",
        "\n",
        "#get label for wave\n",
        "def get_label(file_path):\n",
        "   parts = tf.strings.split(file_path,os.path.sep)\n",
        "\n",
        "#you will use indexing here instead of tuple unpacking to enable this to in\n",
        "#work in a tensorflow graph\n",
        "   return parts[-2]\n",
        "\n",
        "def get_waveform_and_label(file_path):\n",
        "  label = get_label(file_path)\n",
        "  audio_bin = tf.io.read_file(file_path)\n",
        "  waveform= decode_audio(audio_bin)\n",
        "  return waveform,label"
      ],
      "execution_count": 10,
      "outputs": []
    },
    {
      "cell_type": "code",
      "source": [
        "train_files,val_files,test_files = get_data_split(kws_config.DATADIR_PATH)\n",
        "\n"
      ],
      "metadata": {
        "id": "KBGlJui_AwC8"
      },
      "execution_count": null,
      "outputs": []
    },
    {
      "cell_type": "code",
      "metadata": {
        "id": "MailvfGa3OAl"
      },
      "source": [
        "AUTOTUNE = tf.data.AUTOTUNE\n",
        "files_ds = tf.data.Dataset.from_tensor_slices(train_files)\n",
        "waveform_ds = files_ds.map(get_waveform_and_label, num_parallel_calls=AUTOTUNE)\n",
        "\n",
        "gofiles_ds = tf.data.Dataset.from_tensor_slices(go_filenames)\n",
        "nofiles_ds = tf.data.Dataset.from_tensor_slices(no_filenames)\n",
        "\n",
        "gowaveform_ds = gofiles_ds.map(get_waveform_and_label, num_parallel_calls=AUTOTUNE)\n",
        "nowaveform_ds = nofiles_ds.map(get_waveform_and_label, num_parallel_calls=AUTOTUNE)"
      ],
      "execution_count": null,
      "outputs": []
    },
    {
      "cell_type": "code",
      "metadata": {
        "id": "ThicH3-u3P3u"
      },
      "source": [
        "rows = 5\n",
        "cols = 5\n",
        "n = rows*cols\n",
        "fig, axes = plt.subplots(rows, cols, figsize=(20, 22))\n",
        "for i, (audio, label) in enumerate(waveform_ds.take(n)):\n",
        "  print('Waveform shape:', tf.shape(audio))\n",
        "  r = i // cols\n",
        "  c = i % cols\n",
        "  ax = axes[r][c]\n",
        "  ax.plot(audio.numpy())\n",
        "  ax.set_yticks(np.arange(-2.2, 2.2, 0.4))\n",
        "  label = label.numpy().decode('utf-8')\n",
        "  ax.set_title(label)\n",
        "plt.show()"
      ],
      "execution_count": null,
      "outputs": []
    },
    {
      "cell_type": "code",
      "metadata": {
        "id": "PDmsiaS2UoBB"
      },
      "source": [
        "#normailize inputs\n",
        "\n",
        "def normalize_waveforms(x):\n",
        "    \"\"\" notmalize each waveform of a set\n",
        "\n",
        "    parameters:\n",
        "    x: the dataset to normalize\n",
        "\n",
        "    returns:\n",
        "\n",
        "    the same set with each waveform normalized\n",
        "    \"\"\"\n",
        "\n",
        "    max_nums = np.max(np.absolute(x),axis=1)\n",
        "    zeros = np.where(max_nums==0)\n",
        "    max_nums[zeors] = 1\n",
        "    return x/max_nums[:,None]\n",
        "\n",
        "def normalize_spectrograms(x):\n",
        "    \"\"\"Normalize each spectrogram of a set\n",
        "    Parameters:\n",
        "    x: the dataset to normalize\n",
        "    Returns:\n",
        "    The same set with each spectrogram normalized.\n",
        "    \"\"\"\n",
        "    x_2 = np.zeros_like(x)\n",
        "    for i, example in enumerate(x):\n",
        "        x_2[i] = example/np.max(np.abs(example))\n",
        "\n",
        "    return x_2\n",
        "\n",
        "\n",
        "def normalize_2D(x):\n",
        "    \"\"\"Normalize a 2D image\n",
        "    \"\"\"\n",
        "\n",
        "    x_2 = deepcopy(x)\n",
        "    eps = 1e-10\n",
        "\n",
        "    means = np.mean(x_2, axis = (1,2))\n",
        "    std = np.std(x_2,axis = (1,2))\n",
        "\n",
        "    return (x_2-means[:,None,None])/(std[:,None,None]+eps)\n",
        "\n",
        "def make_oh(y):\n",
        "    N = len(y)\n",
        "    n_classes = len(np.unique(y))\n",
        "\n",
        "    y_oh = np.zeros((N,n_classes))\n",
        "\n",
        "    for i in range(N):\n",
        "        col = int(y[i])\n",
        "        y_oh[i,col] = 1\n",
        "\n",
        "    return y_oh"
      ],
      "execution_count": null,
      "outputs": []
    },
    {
      "cell_type": "code",
      "metadata": {
        "id": "I1lPEEPA3Tru"
      },
      "source": [
        "#spectrgram conversio\n",
        "def get_spectrogram(waveform):\n",
        "  # Padding for files with less than 16000 samples\n",
        "  zero_padding = tf.zeros([_params.sample_rate] - tf.shape(waveform), dtype=tf.float32)\n",
        "\n",
        "  # Concatenate audio with padding so that all audio clips will be of the\n",
        "  # same length\n",
        "  waveform = tf.cast(waveform, tf.float32)\n",
        "  equal_length = tf.concat([waveform, zero_padding], 0)\n",
        "  window_size_samples = int(16000*_params.stft_window_useconds/1000)\n",
        "  window_size_stride =  int(16000*_params.stft_hop_useconds/1000)\n",
        "  fft_length = 2 ** int(np.ceil(np.log(window_size_samples)/ np.log(2.0)))\n",
        "  spectrogram = tf.signal.stft(\n",
        "     equal_length, frame_length=window_size_samples, frame_step=window_size_stride,fft_length=fft_length)\n",
        "  print('Spectrogram shape:', spectrogram.shape)\n",
        "  #spectrogram = audio_ops.audio_spectrogram(equal_length,window_size_samples,window_size_stride,magnitude_squared=True)\n",
        "  spectrogram = tf.abs(spectrogram)\n",
        "  # Warp the linear scale spectrograms into the mel-scale.\n",
        "  num_spectrogram_bins = fft_length // 2 + 1\n",
        "  print(\"number of mel_bands\", num_spectrogram_bins)\n",
        "  lower_edge_hertz, upper_edge_hertz, num_mel_bins = 80.0, 7600.0, 40\n",
        "  linear_to_mel_weight_matrix = tf.signal.linear_to_mel_weight_matrix(\n",
        "      _params.mel_bands, num_spectrogram_bins, _params.sample_rate, _params.mel_min_hz,_params.mel_max_hz)\n",
        "\n",
        "  #mel_spectrograms = tf.tensordot(\n",
        "  #          spectrogram, linear_to_mel_weight_matrix, 1)\n",
        "\n",
        "  mel_spectrograms = tf.matmul(spectrogram, linear_to_mel_weight_matrix)\n",
        "  mel_spectrograms.set_shape(spectrogram.shape[:-1].concatenate(\n",
        "                linear_to_mel_weight_matrix.shape[-1:]))\n",
        "\n",
        "\n",
        "  # Compute a stabilized log to get log-magnitude mel-scale spectrograms.\n",
        "  log_mel_spectrograms = tf.math.log(mel_spectrograms + 1e-6)\n",
        "\n",
        "  print(\"mel_spectrogram_shape\", log_mel_spectrograms.shape)\n",
        "\n",
        "  # Compute MFCCs from log_mel_spectrograms and take the first 40.\n",
        "  mfccs = tf.signal.mfccs_from_log_mel_spectrograms(\n",
        "        log_mel_spectrograms)[..., :64]\n",
        "\n",
        "  spectrogram = tf.abs(spectrogram)\n",
        "  print('mfcc shape:', mfccs.shape)\n",
        "  return spectrogram,mfccs\n"
      ],
      "execution_count": null,
      "outputs": []
    },
    {
      "cell_type": "code",
      "metadata": {
        "id": "Kb-6kW3SgRmF"
      },
      "source": [
        "#mel spectrgram conversion\n",
        "def get_melspectrogram(waveform):\n",
        "  # Padding for files with less than 16000 samples\n",
        "  zero_padding = tf.zeros([_params.sample_rate] - tf.shape(waveform), dtype=tf.float32)\n",
        "\n",
        "  # Concatenate audio with padding so that all audio clips will be of the\n",
        "  # same length\n",
        "  waveform = tf.cast(waveform, tf.float32)\n",
        "  equal_length = tf.concat([waveform, zero_padding], 0)\n",
        "  window_size_samples = int(16000*_params.stft_window_useconds/1000)\n",
        "  window_size_stride =  int(16000*_params.stft_hop_useconds/1000)\n",
        "  fft_length = 2 ** int(np.ceil(np.log(window_size_samples)/ np.log(2.0)))\n",
        "  spectrogram = tf.signal.stft(\n",
        "     equal_length, frame_length=window_size_samples, frame_step=window_size_stride,fft_length=fft_length)\n",
        "  print('Spectrogram shape:', spectrogram.shape)\n",
        "  #spectrogram = audio_ops.audio_spectrogram(equal_length,window_size_samples,window_size_stride,magnitude_squared=True)\n",
        "  spectrogram = tf.abs(spectrogram)\n",
        "  # Warp the linear scale spectrograms into the mel-scale.\n",
        "  num_spectrogram_bins = fft_length // 2 + 1\n",
        "  print(\"number of mel_bands\", num_spectrogram_bins)\n",
        "  lower_edge_hertz, upper_edge_hertz, num_mel_bins = 80.0, 7600.0, 40\n",
        "  linear_to_mel_weight_matrix = tf.signal.linear_to_mel_weight_matrix(\n",
        "      _params.mel_bands, num_spectrogram_bins, _params.sample_rate, _params.mel_min_hz,_params.mel_max_hz)\n",
        "\n",
        "  #mel_spectrograms = tf.tensordot(\n",
        "  #          spectrogram, linear_to_mel_weight_matrix, 1)\n",
        "\n",
        "  mel_spectrograms = tf.matmul(spectrogram, linear_to_mel_weight_matrix)\n",
        "  mel_spectrograms.set_shape(spectrogram.shape[:-1].concatenate(\n",
        "                linear_to_mel_weight_matrix.shape[-1:]))\n",
        "\n",
        "\n",
        "  # Compute a stabilized log to get log-magnitude mel-scale spectrograms.\n",
        "  log_mel_spectrograms = tf.math.log(mel_spectrograms + 1e-6)\n",
        "\n",
        "  print(\"mel_spectrogram_shape\", log_mel_spectrograms.shape)\n",
        "\n",
        "  spectrogram = tf.abs(spectrogram)\n",
        "  return spectrogram,log_mel_spectrograms"
      ],
      "execution_count": null,
      "outputs": []
    },
    {
      "cell_type": "code",
      "metadata": {
        "id": "Q_zHiFY93fOT"
      },
      "source": [
        "for waveform, label in waveform_ds.take(1):\n",
        "  label = label.numpy().decode('utf-8')\n",
        "  spectrogram,mfccs = get_spectrogram(waveform)\n",
        "\n",
        "for waveform, label in waveform_ds.take(1):\n",
        "  label = label.numpy().decode('utf-8')\n",
        "  spectrogram,mel_spectrograms = get_melspectrogram(waveform)\n",
        "\n",
        "print('Label:', label)\n",
        "print('Waveform shape:', waveform.shape)\n",
        "print('Spectrogram shape:', spectrogram.shape)\n",
        "print('Audio playback')\n",
        "display.display(display.Audio(waveform, rate=16000))"
      ],
      "execution_count": null,
      "outputs": []
    },
    {
      "cell_type": "code",
      "metadata": {
        "id": "FjD8Z0ZL3jf7"
      },
      "source": [
        "def plot_spectrogram(spectrogram, ax):\n",
        "  # Convert to frequencies to log scale and transpose so that the time is\n",
        "  # represented in the x-axis (columns).\n",
        "  log_spec = np.log(spectrogram.T)\n",
        "  height = log_spec.shape[0]\n",
        "  width = log_spec.shape[1]\n",
        "  X = np.linspace(0, np.size(spectrogram), num=width, dtype=int)\n",
        "  Y = range(height)\n",
        "  ax.pcolormesh(X, Y, log_spec)\n",
        "\n",
        "\n",
        "fig, axes = plt.subplots(4, figsize=(12, 8))\n",
        "timescale = np.arange(waveform.shape[0])\n",
        "axes[0].plot(timescale, waveform.numpy())\n",
        "axes[0].set_title('Waveform')\n",
        "axes[0].set_xlim([0, 16000])\n",
        "plot_spectrogram(spectrogram.numpy(), axes[1])\n",
        "axes[1].set_title('Spectrogram')\n",
        "axes[2].set_title('mel_spectrogram')\n",
        "plot_spectrogram(mel_spectrograms.numpy(),axes[2])\n",
        "axes[3].set_title('mfcc')\n",
        "#spectrogram = tf.expand_dims(spectrogram,-1)\n",
        "#mfcc = audio_ops.mfcc(spectrogram,16000,dct_coefficient_count=129)\n",
        "plot_spectrogram(mfccs.numpy(),axes[3])\n",
        "plt.show()"
      ],
      "execution_count": null,
      "outputs": []
    },
    {
      "cell_type": "code",
      "metadata": {
        "id": "GCWlOvh94Kh5"
      },
      "source": [
        "def get_spectrogram_and_label_id(audio, label):\n",
        "  spectrogram,mfccs= get_spectrogram(audio)\n",
        "  spectrogram = tf.expand_dims(spectrogram, -1)\n",
        "  #mfccs = tf.expand_dims(mfccs,1)\n",
        "  label_id = tf.argmax(label == commands)\n",
        "  return spectrogram,label_id\n",
        "\n",
        "def get_melspectrogram_and_label_id(audio, label):\n",
        "  _,mel_spectrogram= get_melspectrogram(audio)\n",
        "  mel_spectrogram = tf.expand_dims(mel_spectrogram, -1)\n",
        "  label_id = tf.argmax(label == commands)\n",
        "  return mel_spectrogram,label_id\n",
        "\n",
        "def preprocess_dataset(files):\n",
        "  files_ds = tf.data.Dataset.from_tensor_slices(files)\n",
        "  output_ds = files_ds.map(get_waveform_and_label, num_parallel_calls=AUTOTUNE)\n",
        "  output_ds = output_ds.map(\n",
        "      get_spectrogram_and_label_id,  num_parallel_calls=AUTOTUNE)\n",
        "  return output_ds\n",
        "\n",
        "def get_mfcc_and_label_id(audio, label):\n",
        "  spectrogram,mfccs = get_spectrogram(audio)\n",
        "  #spectrogram = tf.expand_dims(spectrogram, -1)\n",
        "  mfccs = tf.expand_dims(mfccs,-1)\n",
        "  label_id = tf.argmax(label == commands)\n",
        "  return  mfccs, label_id\n",
        "\n",
        "def preprocess_mfccdataset(files):\n",
        "  files_ds = tf.data.Dataset.from_tensor_slices(files)\n",
        "  output_ds = files_ds.map(get_waveform_and_label, num_parallel_calls=AUTOTUNE)\n",
        "  output_ds = output_ds.map(\n",
        "      get_mfcc_and_label_id,  num_parallel_calls=AUTOTUNE)\n",
        "  return output_ds\n",
        "\n",
        "def preprocess_meldataset(files):\n",
        "  files_ds = tf.data.Dataset.from_tensor_slices(files)\n",
        "  output_ds = files_ds.map(get_waveform_and_label, num_parallel_calls=AUTOTUNE)\n",
        "  output_ds = output_ds.map(\n",
        "      get_melspectrogram_and_label_id,  num_parallel_calls=AUTOTUNE)\n",
        "  return output_ds"
      ],
      "execution_count": null,
      "outputs": []
    },
    {
      "cell_type": "code",
      "metadata": {
        "id": "pTvBIWJkBoRE"
      },
      "source": [
        "def plot_mfccspectrogram(wave_ds):\n",
        "\n",
        "   rows = 5\n",
        "   cols = 3\n",
        "   n = rows\n",
        "   for i, (audio, label) in enumerate(wave_ds.take(n)):\n",
        "      fig, axes = plt.subplots(3, figsize=(12, 10))\n",
        "      print('Waveform shape:', tf.shape(audio))\n",
        "      spectrogram,mfccs = get_spectrogram(audio)\n",
        "      timescale = np.arange(audio.shape[0])\n",
        "      axes[0].plot(timescale,audio.numpy())\n",
        "      label = label.numpy().decode('utf-8')\n",
        "      axes[0].set_title(label)\n",
        "      axes[0].set_xlim([0, 16000])\n",
        "      plot_spectrogram(spectrogram.numpy(),axes[1])\n",
        "      axes[1].set_title(\"spectrogram\")\n",
        "      plot_spectrogram(mfccs.numpy(),axes[2])\n",
        "      axes[2].set_title(\"mfcc\")\n",
        "\n",
        "   plt.show()"
      ],
      "execution_count": null,
      "outputs": []
    },
    {
      "cell_type": "code",
      "metadata": {
        "id": "aVlQSXKFP8Am"
      },
      "source": [
        "rows = 5\n",
        "cols = 3\n",
        "n = rows\n",
        "\n",
        "for i, (audio, label) in enumerate(nowaveform_ds.take(n)):\n",
        "  fig, axes = plt.subplots(3, figsize=(12, 10))\n",
        "  print('Waveform shape:', tf.shape(audio))\n",
        "  spectrogram,mfccs = get_spectrogram(audio)\n",
        "  timescale = np.arange(audio.shape[0])\n",
        "  axes[0].plot(timescale,audio.numpy())\n",
        "  label = label.numpy().decode('utf-8')\n",
        "  axes[0].set_title(label)\n",
        "  axes[0].set_xlim([0, 16000])\n",
        "  plot_spectrogram(spectrogram.numpy(),axes[1])\n",
        "  axes[1].set_title(\"spectrogram\")\n",
        "  plot_spectrogram(mfccs.numpy(),axes[2])\n",
        "  axes[2].set_title(\"mfcc\")\n",
        "\n",
        "plt.show()"
      ],
      "execution_count": null,
      "outputs": []
    },
    {
      "cell_type": "code",
      "metadata": {
        "id": "FkHb7_-j4SaN"
      },
      "source": [
        "spectrogram_ds = waveform_ds.map(\n",
        "    get_spectrogram_and_label_id, num_parallel_calls=AUTOTUNE)\n",
        "\n",
        "rows = 5\n",
        "cols = 5\n",
        "n = rows*cols\n",
        "fig, axes = plt.subplots(rows, cols, figsize=(20, 20))\n",
        "for i, (spectrogram, label_id) in enumerate(spectrogram_ds.take(n)):\n",
        "  r = i // cols\n",
        "  c = i % cols\n",
        "  ax = axes[r][c]\n",
        "  print(\"spectrogram_shape\",spectrogram.shape)\n",
        "  plot_spectrogram(np.squeeze(spectrogram.numpy()), ax)\n",
        "  ax.set_title(commands[label_id.numpy()])\n",
        "  ax.axis('off')\n",
        "\n",
        "plt.show()\n",
        "\n"
      ],
      "execution_count": null,
      "outputs": []
    },
    {
      "cell_type": "code",
      "metadata": {
        "id": "25szZ23HRH4w"
      },
      "source": [
        "\n",
        "mfcc_ds = waveform_ds.map(\n",
        "    get_mfcc_and_label_id, num_parallel_calls=AUTOTUNE)\n",
        "\n",
        "rows = 3\n",
        "cols = 3\n",
        "n = rows*cols\n",
        "fig, axes = plt.subplots(rows, cols, figsize=(10, 10))\n",
        "for i, (mfccs, label_id) in enumerate(mfcc_ds.take(n)):\n",
        "  r = i // cols\n",
        "  c = i % cols\n",
        "  ax = axes[r][c]\n",
        "  print(\"mfcc_shape\",mfccs.shape)\n",
        "  plot_spectrogram(np.squeeze(mfccs.numpy()), ax)\n",
        "  ax.set_title(commands[label_id.numpy()])\n",
        "  ax.axis('off')\n",
        "\n",
        "plt.show()"
      ],
      "execution_count": null,
      "outputs": []
    },
    {
      "cell_type": "code",
      "metadata": {
        "id": "BogUYpMly3sT",
        "colab": {
          "base_uri": "https://localhost:8080/",
          "height": 829
        },
        "outputId": "4dccfbf0-03fa-4732-d1b5-9b829037228f"
      },
      "source": [
        "mel_spectrogram_ds = waveform_ds.map(\n",
        "    get_melspectrogram_and_label_id, num_parallel_calls=AUTOTUNE)\n",
        "\n",
        "rows = 3\n",
        "cols = 3\n",
        "n = rows*cols\n",
        "fig, axes = plt.subplots(rows, cols, figsize=(10, 10))\n",
        "for i, (mels, label_id) in enumerate(mel_spectrogram_ds.take(n)):\n",
        "  r = i // cols\n",
        "  c = i % cols\n",
        "  ax = axes[r][c]\n",
        "  print(\"melspectrogram_shape\",mels.shape)\n",
        "  plot_spectrogram(np.squeeze(mels.numpy()), ax)\n",
        "  ax.set_title(commands[label_id.numpy()])\n",
        "  ax.axis('off')\n",
        "\n",
        "plt.show()"
      ],
      "execution_count": null,
      "outputs": [
        {
          "output_type": "stream",
          "name": "stdout",
          "text": [
            "Spectrogram shape: (98, 257)\n",
            "number of mel_bands 257\n",
            "mel_spectrogram_shape (98, 40)\n",
            "melspectrogram_shape (98, 40, 1)\n",
            "melspectrogram_shape (98, 40, 1)\n",
            "melspectrogram_shape (98, 40, 1)\n",
            "melspectrogram_shape (98, 40, 1)\n",
            "melspectrogram_shape (98, 40, 1)\n",
            "melspectrogram_shape (98, 40, 1)\n",
            "melspectrogram_shape (98, 40, 1)\n",
            "melspectrogram_shape (98, 40, 1)\n",
            "melspectrogram_shape (98, 40, 1)\n"
          ]
        },
        {
          "output_type": "stream",
          "name": "stderr",
          "text": [
            "/usr/local/lib/python3.7/dist-packages/ipykernel_launcher.py:4: RuntimeWarning: invalid value encountered in log\n",
            "  after removing the cwd from sys.path.\n"
          ]
        },
        {
          "output_type": "display_data",
          "data": {
            "image/png": "[encoded data removed]",
            "text/plain": [
              "<Figure size 720x720 with 9 Axes>"
            ]
          },
          "metadata": {
            "needs_background": "light"
          }
        }
      ]
    },
    {
      "cell_type": "code",
      "metadata": {
        "id": "j1umqhMY4f8G",
        "colab": {
          "base_uri": "https://localhost:8080/"
        },
        "outputId": "e836e4c3-7219-439d-c18c-d98b8c3ad66b"
      },
      "source": [
        "train_ds = spectrogram_ds\n",
        "val_ds = preprocess_dataset(val_files)\n",
        "test_ds = preprocess_dataset(test_files)\n",
        "\n",
        "batch_size = 64\n",
        "train_ds = train_ds.batch(batch_size)\n",
        "val_ds = val_ds.batch(batch_size)\n",
        "\n",
        "train_ds = train_ds.cache().prefetch(AUTOTUNE)\n",
        "val_ds = val_ds.cache().prefetch(AUTOTUNE)"
      ],
      "execution_count": null,
      "outputs": [
        {
          "output_type": "stream",
          "name": "stdout",
          "text": [
            "Spectrogram shape: (98, 257)\n",
            "number of mel_bands 257\n",
            "mel_spectrogram_shape (98, 40)\n",
            "mfcc shape: (98, 40)\n",
            "Spectrogram shape: (98, 257)\n",
            "number of mel_bands 257\n",
            "mel_spectrogram_shape (98, 40)\n",
            "mfcc shape: (98, 40)\n"
          ]
        }
      ]
    },
    {
      "cell_type": "code",
      "metadata": {
        "id": "1Y1lGED8i1-D"
      },
      "source": [
        "train_ds = mfcc_ds\n",
        "val_ds = preprocess_mfccdataset(val_files)\n",
        "test_ds = preprocess_mfccdataset(test_files)\n",
        "\n",
        "batch_size = 64\n",
        "train_ds = train_ds.batch(batch_size)\n",
        "val_ds = val_ds.batch(batch_size)\n",
        "\n",
        "train_ds = train_ds.cache().prefetch(AUTOTUNE)\n",
        "val_ds = val_ds.cache().prefetch(AUTOTUNE)\n"
      ],
      "execution_count": null,
      "outputs": []
    },
    {
      "cell_type": "code",
      "metadata": {
        "id": "EBv3ciw-zJ4v"
      },
      "source": [
        "train_ds = mel_spectrogram_ds\n",
        "val_ds = preprocess_meldataset(val_files)\n",
        "test_ds = preprocess_meldataset(test_files)\n",
        "\n",
        "batch_size = 64\n",
        "train_ds = train_ds.batch(batch_size)\n",
        "val_ds = val_ds.batch(batch_size)\n",
        "\n",
        "train_ds = train_ds.cache().prefetch(AUTOTUNE)\n",
        "val_ds = val_ds.cache().prefetch(AUTOTUNE)"
      ],
      "execution_count": null,
      "outputs": []
    },
    {
      "cell_type": "code",
      "metadata": {
        "id": "ws9KwyI-lEPI"
      },
      "source": [
        "from keras import backend as K\n",
        "from keras import backend as K\n",
        "from keras.layers.core import Activation\n",
        "from keras.utils.generic_utils import get_custom_objects\n",
        "\n",
        "def mexican_hat_wt(x):\n",
        "    x = (x-t_1)\n",
        "    tf_pi = K.constant(np.pi,dtype=tf.float32)\n",
        "    #f = tf.constant(0.1, dtype = tf.float32)\n",
        "    #return (1-x**2)*tf.exp(-x**2)\n",
        "    return (1-2*(tf_pi**2)*(d_1**2)*(x**2))*K.exp(-(tf_pi**2)*(d_1**2)*x**2)\n",
        "\n",
        "\n",
        "get_custom_objects().update({'mexican_hat_wt': Activation(mexican_hat_wt)})"
      ],
      "execution_count": null,
      "outputs": []
    },
    {
      "cell_type": "code",
      "metadata": {
        "colab": {
          "base_uri": "https://localhost:8080/"
        },
        "id": "MfXkCWbtlHRr",
        "outputId": "4198a900-a523-4809-98bc-8b24b595cd54"
      },
      "source": [
        "\n",
        "\n",
        "for mfcc, _ in mfcc_ds.take(1):\n",
        "  input_shape = mfcc.shape\n",
        "print('Input shape:', input_shape)\n",
        "num_labels = len(commands)\n",
        "\n",
        "norm_layer = preprocessing.Normalization()\n",
        "norm_layer.adapt(mfcc_ds.map(lambda x, _: x))\n",
        "\n",
        "model_mfcc = models.Sequential([\n",
        "    layers.Input(shape=input_shape),\n",
        "    norm_layer,\n",
        "    layers.Conv2D(64, kernel_size=(8,8), padding='valid', strides=(1,1), activation='relu'),\n",
        "    layers.MaxPooling2D(pool_size=(1,1)),\n",
        "    layers.LayerNormalization(),\n",
        "    layers.Conv2D(48, kernel_size=(4,4), padding='valid', strides=(1,1), activation='relu'),\n",
        "    layers.MaxPooling2D(pool_size=(1,1)),\n",
        "    layers.LayerNormalization(),\n",
        "    layers.GlobalMaxPooling2D(),\n",
        "    layers.Flatten(),\n",
        "    layers.Dense(32, activation='relu'),\n",
        "    layers.Dense(128, activation='relu'),\n",
        "    layers.Dense(num_labels),\n",
        "])\n",
        "\n",
        "model_mfcc.summary()\n",
        "\n"
      ],
      "execution_count": null,
      "outputs": [
        {
          "output_type": "stream",
          "name": "stdout",
          "text": [
            "Input shape: (98, 40, 1)\n",
            "Model: \"sequential\"\n",
            "_________________________________________________________________\n",
            "Layer (type)                 Output Shape              Param #   \n",
            "=================================================================\n",
            "normalization (Normalization (None, 98, 40, 1)         3         \n",
            "_________________________________________________________________\n",
            "conv2d (Conv2D)              (None, 91, 33, 64)        4160      \n",
            "_________________________________________________________________\n",
            "max_pooling2d (MaxPooling2D) (None, 91, 33, 64)        0         \n",
            "_________________________________________________________________\n",
            "batch_normalization (BatchNo (None, 91, 33, 64)        256       \n",
            "_________________________________________________________________\n",
            "conv2d_1 (Conv2D)            (None, 88, 30, 48)        49200     \n",
            "_________________________________________________________________\n",
            "max_pooling2d_1 (MaxPooling2 (None, 88, 30, 48)        0         \n",
            "_________________________________________________________________\n",
            "batch_normalization_1 (Batch (None, 88, 30, 48)        192       \n",
            "_________________________________________________________________\n",
            "global_max_pooling2d (Global (None, 48)                0         \n",
            "_________________________________________________________________\n",
            "flatten (Flatten)            (None, 48)                0         \n",
            "_________________________________________________________________\n",
            "dense (Dense)                (None, 32)                1568      \n",
            "_________________________________________________________________\n",
            "dense_1 (Dense)              (None, 128)               4224      \n",
            "_________________________________________________________________\n",
            "dense_2 (Dense)              (None, 8)                 1032      \n",
            "=================================================================\n",
            "Total params: 60,635\n",
            "Trainable params: 60,408\n",
            "Non-trainable params: 227\n",
            "_________________________________________________________________\n"
          ]
        }
      ]
    },
    {
      "cell_type": "code",
      "metadata": {
        "colab": {
          "base_uri": "https://localhost:8080/"
        },
        "id": "JwsxDOwMNyLG",
        "outputId": "3d6a77e3-3579-448a-d145-c747079b79f4"
      },
      "source": [
        "# Instantiate an optimizer.\n",
        "optimizer = tf.keras.optimizers.Adam()\n",
        "def lr_scheduler(epoch, lr):\n",
        "    if epoch > 4:\n",
        "        lr = 0.0001 *  tf.math.exp(0.1 * (7 - epoch))\n",
        "        return lr\n",
        "    return lr\n",
        "\n",
        "#lr_schedule = tf.keras.optimizers.schedules.ExponentialDecay(\n",
        "#    initial_learning_rate=0.001,\n",
        "#    decay_steps=10000,\n",
        "#    decay_rate=0.9)\n",
        "\n",
        "model_mfcc.compile(\n",
        "    optimizer=tf.keras.optimizers.Adam(learning_rate=0.001),\n",
        "    loss=tf.keras.losses.SparseCategoricalCrossentropy(from_logits=True),\n",
        "    metrics=['accuracy'],\n",
        ")\n",
        "\n",
        "\n",
        "#lr_schedule = tf.keras.optimizers.schedules.ExponentialDecay(\n",
        "#    initial_learning_rate,\n",
        "#    decay_steps=100000,\n",
        "#    decay_rate=0.96,\n",
        "#    staircase=True)\n",
        "\n",
        "EPOCHS = 100\n",
        "history = model_mfcc.fit(\n",
        "    train_ds,\n",
        "    validation_data=val_ds,\n",
        "    epochs=EPOCHS,\n",
        "    callbacks=[tf.keras.callbacks.EarlyStopping(verbose=1, patience=2),\n",
        "               tf.keras.callbacks.LearningRateScheduler(lr_scheduler, verbose=1),\n",
        "               tf.keras.callbacks.TensorBoard(log_dir=log_dir, histogram_freq=1),]\n",
        ")"
      ],
      "execution_count": null,
      "outputs": [
        {
          "output_type": "stream",
          "name": "stdout",
          "text": [
            "Epoch 1/100\n",
            "\n",
            "Epoch 00001: LearningRateScheduler setting learning rate to 0.0010000000474974513.\n",
            "100/100 [==============================] - 266s 3s/step - loss: 1.4375 - accuracy: 0.4936 - val_loss: 1.9845 - val_accuracy: 0.3650\n",
            "Epoch 2/100\n",
            "\n",
            "Epoch 00002: LearningRateScheduler setting learning rate to 0.0010000000474974513.\n",
            "100/100 [==============================] - 239s 2s/step - loss: 0.6159 - accuracy: 0.7902 - val_loss: 1.7558 - val_accuracy: 0.3713\n",
            "Epoch 3/100\n",
            "\n",
            "Epoch 00003: LearningRateScheduler setting learning rate to 0.0010000000474974513.\n",
            "100/100 [==============================] - 230s 2s/step - loss: 0.4199 - accuracy: 0.8606 - val_loss: 1.2495 - val_accuracy: 0.7025\n",
            "Epoch 4/100\n",
            "\n",
            "Epoch 00004: LearningRateScheduler setting learning rate to 0.0010000000474974513.\n",
            "100/100 [==============================] - 226s 2s/step - loss: 0.3507 - accuracy: 0.8816 - val_loss: 0.8419 - val_accuracy: 0.7538\n",
            "Epoch 5/100\n",
            "\n",
            "Epoch 00005: LearningRateScheduler setting learning rate to 0.0010000000474974513.\n",
            "100/100 [==============================] - 226s 2s/step - loss: 0.2901 - accuracy: 0.9013 - val_loss: 0.5464 - val_accuracy: 0.8350\n",
            "Epoch 6/100\n",
            "\n",
            "Epoch 00006: LearningRateScheduler setting learning rate to tf.Tensor(0.00012214028, shape=(), dtype=float32).\n",
            "100/100 [==============================] - 236s 2s/step - loss: 0.1996 - accuracy: 0.9359 - val_loss: 0.3140 - val_accuracy: 0.9038\n",
            "Epoch 7/100\n",
            "\n",
            "Epoch 00007: LearningRateScheduler setting learning rate to tf.Tensor(0.000110517096, shape=(), dtype=float32).\n",
            "100/100 [==============================] - 228s 2s/step - loss: 0.1732 - accuracy: 0.9442 - val_loss: 0.2804 - val_accuracy: 0.9013\n",
            "Epoch 8/100\n",
            "\n",
            "Epoch 00008: LearningRateScheduler setting learning rate to tf.Tensor(1e-04, shape=(), dtype=float32).\n",
            "100/100 [==============================] - 228s 2s/step - loss: 0.1596 - accuracy: 0.9488 - val_loss: 0.2773 - val_accuracy: 0.9013\n",
            "Epoch 9/100\n",
            "\n",
            "Epoch 00009: LearningRateScheduler setting learning rate to tf.Tensor(9.048374e-05, shape=(), dtype=float32).\n",
            "100/100 [==============================] - 228s 2s/step - loss: 0.1499 - accuracy: 0.9519 - val_loss: 0.2759 - val_accuracy: 0.9000\n",
            "Epoch 10/100\n",
            "\n",
            "Epoch 00010: LearningRateScheduler setting learning rate to tf.Tensor(8.187308e-05, shape=(), dtype=float32).\n",
            "100/100 [==============================] - 229s 2s/step - loss: 0.1415 - accuracy: 0.9563 - val_loss: 0.2739 - val_accuracy: 0.9038\n",
            "Epoch 11/100\n",
            "\n",
            "Epoch 00011: LearningRateScheduler setting learning rate to tf.Tensor(7.408182e-05, shape=(), dtype=float32).\n",
            "100/100 [==============================] - 226s 2s/step - loss: 0.1344 - accuracy: 0.9584 - val_loss: 0.2731 - val_accuracy: 0.9038\n",
            "Epoch 12/100\n",
            "\n",
            "Epoch 00012: LearningRateScheduler setting learning rate to tf.Tensor(6.7032e-05, shape=(), dtype=float32).\n",
            "100/100 [==============================] - 228s 2s/step - loss: 0.1282 - accuracy: 0.9608 - val_loss: 0.2728 - val_accuracy: 0.9075\n",
            "Epoch 13/100\n",
            "\n",
            "Epoch 00013: LearningRateScheduler setting learning rate to tf.Tensor(6.0653067e-05, shape=(), dtype=float32).\n",
            "100/100 [==============================] - 227s 2s/step - loss: 0.1230 - accuracy: 0.9619 - val_loss: 0.2745 - val_accuracy: 0.9062\n",
            "Epoch 14/100\n",
            "\n",
            "Epoch 00014: LearningRateScheduler setting learning rate to tf.Tensor(5.488116e-05, shape=(), dtype=float32).\n",
            "100/100 [==============================] - 230s 2s/step - loss: 0.1180 - accuracy: 0.9642 - val_loss: 0.2748 - val_accuracy: 0.9100\n",
            "Epoch 00014: early stopping\n"
          ]
        }
      ]
    },
    {
      "cell_type": "code",
      "metadata": {
        "id": "V1Bal1n9OtaX",
        "colab": {
          "base_uri": "https://localhost:8080/",
          "height": 231
        },
        "outputId": "558ea7c7-147b-49b3-87ff-18ac3cd811e3"
      },
      "source": [
        "#test_audio = []\n",
        "test_labels = []\n",
        "\n",
        "for audio, label in test_ds:\n",
        "  test_audio.append(audio.numpy())\n",
        "  test_labels.append(label.numpy())\n",
        "\n",
        "test_audio = np.array(test_audio)\n",
        "test_labels = np.array(test_labels)\n",
        "\n",
        "y_pred = np.argmax(model_mfcc.predict(test_audio), axis=1)\n",
        "y_true = test_labels\n",
        "\n",
        "test_acc = sum(y_pred == y_true) / len(y_true)\n",
        "print(f'Test set accuracy: {test_acc:.0%}')"
      ],
      "execution_count": null,
      "outputs": [
        {
          "output_type": "error",
          "ename": "NameError",
          "evalue": "ignored",
          "traceback": [
            "\u001b[0;31m---------------------------------------------------------------------------\u001b[0m",
            "\u001b[0;31mNameError\u001b[0m                                 Traceback (most recent call last)",
            "\u001b[0;32m<ipython-input-30-447c8534bc50>\u001b[0m in \u001b[0;36m<module>\u001b[0;34m()\u001b[0m\n\u001b[1;32m      3\u001b[0m \u001b[0;34m\u001b[0m\u001b[0m\n\u001b[1;32m      4\u001b[0m \u001b[0;32mfor\u001b[0m \u001b[0maudio\u001b[0m\u001b[0;34m,\u001b[0m \u001b[0mlabel\u001b[0m \u001b[0;32min\u001b[0m \u001b[0mtest_ds\u001b[0m\u001b[0;34m:\u001b[0m\u001b[0;34m\u001b[0m\u001b[0;34m\u001b[0m\u001b[0m\n\u001b[0;32m----> 5\u001b[0;31m   \u001b[0mtest_audio\u001b[0m\u001b[0;34m.\u001b[0m\u001b[0mappend\u001b[0m\u001b[0;34m(\u001b[0m\u001b[0maudio\u001b[0m\u001b[0;34m.\u001b[0m\u001b[0mnumpy\u001b[0m\u001b[0;34m(\u001b[0m\u001b[0;34m)\u001b[0m\u001b[0;34m)\u001b[0m\u001b[0;34m\u001b[0m\u001b[0;34m\u001b[0m\u001b[0m\n\u001b[0m\u001b[1;32m      6\u001b[0m   \u001b[0mtest_labels\u001b[0m\u001b[0;34m.\u001b[0m\u001b[0mappend\u001b[0m\u001b[0;34m(\u001b[0m\u001b[0mlabel\u001b[0m\u001b[0;34m.\u001b[0m\u001b[0mnumpy\u001b[0m\u001b[0;34m(\u001b[0m\u001b[0;34m)\u001b[0m\u001b[0;34m)\u001b[0m\u001b[0;34m\u001b[0m\u001b[0;34m\u001b[0m\u001b[0m\n\u001b[1;32m      7\u001b[0m \u001b[0;34m\u001b[0m\u001b[0m\n",
            "\u001b[0;31mNameError\u001b[0m: name 'test_audio' is not defined"
          ]
        }
      ]
    },
    {
      "cell_type": "code",
      "metadata": {
        "id": "IsOmVHPYpxxA"
      },
      "source": [
        "for spectrogram, _ in mel_spectrogram_ds.take(1):\n",
        "  input_shape = spectrogram.shape\n",
        "print('Input shape:', input_shape)\n",
        "num_labels = len(commands)\n",
        "\n",
        "norm_layer = preprocessing.Normalization()\n",
        "norm_layer.adapt(spectrogram_ds.map(lambda x, _: x))\n",
        "\n",
        "model = models.Sequential([\n",
        "    layers.Input(shape=input_shape),\n",
        "    norm_layer,\n",
        "    layers.Conv2D(64, kernel_size=(20,8), activation='relu'),\n",
        "    layers.MaxPooling2D(pool_size=(1,3)),\n",
        "    layers.BatchNormalization(),\n",
        "    layers.Conv2D(64, kernel_size=(10,4), activation='relu'),\n",
        "    layers.MaxPooling2D(),\n",
        "    layers.BatchNormalization(),\n",
        "    layers.GlobalMaxPooling2D(),\n",
        "    layers.Flatten(),\n",
        "    layers.Dense(32),\n",
        "    layers.Dense(128, activation='relu'),\n",
        "    #layers.Dropout(0.25),\n",
        "    layers.Dense(num_labels),\n",
        "])\n",
        "\n",
        "model.summary()"
      ],
      "execution_count": null,
      "outputs": []
    },
    {
      "cell_type": "code",
      "metadata": {
        "colab": {
          "base_uri": "https://localhost:8080/"
        },
        "id": "a-phqu9EX0cs",
        "outputId": "8af07e95-dd1e-4b6b-9465-4f5a43b12a9f"
      },
      "source": [
        "for spectrogram, _ in mfcc_ds.take(1):\n",
        "  input_shape = spectrogram.shape\n",
        "print('Input shape:', input_shape)\n",
        "num_labels = len(commands)\n",
        "\n",
        "norm_layer = preprocessing.Normalization()\n",
        "norm_layer.adapt(mfcc_ds.map(lambda x, _: x))\n",
        "\n",
        "model_mfcc = models.Sequential([\n",
        "    layers.Input(shape=input_shape),\n",
        "    norm_layer,\n",
        "    layers.Conv2D(64, kernel_size=(20,8), activation='relu',use_bias=True),\n",
        "    layers.MaxPooling2D(pool_size=(1,3)),\n",
        "    layers.BatchNormalization(),\n",
        "    layers.Conv2D(64, kernel_size=(10,4), activation='relu', use_bias=True),\n",
        "    layers.MaxPooling2D(),\n",
        "    layers.BatchNormalization(),\n",
        "    layers.GlobalMaxPooling2D(),\n",
        "    layers.Flatten(),\n",
        "    layers.Dense(32),\n",
        "    layers.Dense(128, activation='relu',use_bias=True),\n",
        "    #layers.Dropout(0.25),\n",
        "    layers.Dense(num_labels),\n",
        "\n",
        "])\n",
        "\n",
        "model_mfcc.summary()"
      ],
      "execution_count": null,
      "outputs": [
        {
          "output_type": "stream",
          "name": "stdout",
          "text": [
            "Input shape: (98, 40, 1)\n",
            "Model: \"sequential_1\"\n",
            "_________________________________________________________________\n",
            "Layer (type)                 Output Shape              Param #   \n",
            "=================================================================\n",
            "normalization_1 (Normalizati (None, 98, 40, 1)         3         \n",
            "_________________________________________________________________\n",
            "conv2d_2 (Conv2D)            (None, 79, 33, 64)        10304     \n",
            "_________________________________________________________________\n",
            "max_pooling2d_2 (MaxPooling2 (None, 79, 11, 64)        0         \n",
            "_________________________________________________________________\n",
            "batch_normalization_2 (Batch (None, 79, 11, 64)        256       \n",
            "_________________________________________________________________\n",
            "conv2d_3 (Conv2D)            (None, 70, 8, 64)         163904    \n",
            "_________________________________________________________________\n",
            "max_pooling2d_3 (MaxPooling2 (None, 35, 4, 64)         0         \n",
            "_________________________________________________________________\n",
            "batch_normalization_3 (Batch (None, 35, 4, 64)         256       \n",
            "_________________________________________________________________\n",
            "global_max_pooling2d_1 (Glob (None, 64)                0         \n",
            "_________________________________________________________________\n",
            "flatten_1 (Flatten)          (None, 64)                0         \n",
            "_________________________________________________________________\n",
            "dense_3 (Dense)              (None, 32)                2080      \n",
            "_________________________________________________________________\n",
            "dense_4 (Dense)              (None, 128)               4224      \n",
            "_________________________________________________________________\n",
            "dense_5 (Dense)              (None, 8)                 1032      \n",
            "=================================================================\n",
            "Total params: 182,059\n",
            "Trainable params: 181,800\n",
            "Non-trainable params: 259\n",
            "_________________________________________________________________\n"
          ]
        }
      ]
    },
    {
      "cell_type": "code",
      "metadata": {
        "colab": {
          "base_uri": "https://localhost:8080/"
        },
        "id": "qF1xeOHQbHHw",
        "outputId": "8ed9f5d4-adca-4c4d-82ee-4697298b9e7a"
      },
      "source": [
        "#Instantiate an optimizer.\n",
        "optimizer = tf.keras.optimizers.Adam()\n",
        "def lr_scheduler(epoch, lr):\n",
        "    if epoch > 4:\n",
        "        lr = 0.0001 *  tf.math.exp(0.1 * (7 - epoch))\n",
        "        return lr\n",
        "    return lr\n",
        "\n",
        "#lr_schedule = tf.keras.optimizers.schedules.ExponentialDecay(\n",
        "#    initial_learning_rate=0.001,\n",
        "#    decay_steps=10000,\n",
        "#    decay_rate=0.9)\n",
        "\n",
        "model_mfcc.compile(\n",
        "    optimizer=tf.keras.optimizers.Adam(learning_rate=0.001),\n",
        "    loss=tf.keras.losses.SparseCategoricalCrossentropy(from_logits=True),\n",
        "    metrics=['accuracy'],\n",
        ")\n",
        "\n",
        "\n",
        "#lr_schedule = tf.keras.optimizers.schedules.ExponentialDecay(\n",
        "#    initial_learning_rate,\n",
        "#    decay_steps=100000,\n",
        "#    decay_rate=0.96,\n",
        "#    staircase=True)\n",
        "\n",
        "EPOCHS = 100\n",
        "history = model_mfcc.fit(\n",
        "    train_ds,\n",
        "    validation_data=val_ds,\n",
        "    epochs=EPOCHS,\n",
        "    callbacks=[tf.keras.callbacks.EarlyStopping(verbose=1, patience=2),\n",
        "               tf.keras.callbacks.LearningRateScheduler(lr_scheduler, verbose=1),\n",
        "               tf.keras.callbacks.TensorBoard(log_dir=log_dir, histogram_freq=1),]\n",
        ")"
      ],
      "execution_count": null,
      "outputs": [
        {
          "output_type": "stream",
          "name": "stdout",
          "text": [
            "Epoch 1/100\n",
            "\n",
            "Epoch 00001: LearningRateScheduler setting learning rate to 0.0010000000474974513.\n",
            "100/100 [==============================] - 137s 1s/step - loss: 1.0644 - accuracy: 0.6413 - val_loss: 1.6689 - val_accuracy: 0.5200\n",
            "Epoch 2/100\n",
            "\n",
            "Epoch 00002: LearningRateScheduler setting learning rate to 0.0010000000474974513.\n",
            "100/100 [==============================] - 136s 1s/step - loss: 0.4189 - accuracy: 0.8591 - val_loss: 1.0967 - val_accuracy: 0.7425\n",
            "Epoch 3/100\n",
            "\n",
            "Epoch 00003: LearningRateScheduler setting learning rate to 0.0010000000474974513.\n",
            "100/100 [==============================] - 137s 1s/step - loss: 0.2966 - accuracy: 0.9020 - val_loss: 0.7135 - val_accuracy: 0.7812\n",
            "Epoch 4/100\n",
            "\n",
            "Epoch 00004: LearningRateScheduler setting learning rate to 0.0010000000474974513.\n",
            "100/100 [==============================] - 139s 1s/step - loss: 0.2366 - accuracy: 0.9208 - val_loss: 0.3759 - val_accuracy: 0.8875\n",
            "Epoch 5/100\n",
            "\n",
            "Epoch 00005: LearningRateScheduler setting learning rate to 0.0010000000474974513.\n",
            "100/100 [==============================] - 139s 1s/step - loss: 0.1808 - accuracy: 0.9419 - val_loss: 0.2479 - val_accuracy: 0.9187\n",
            "Epoch 6/100\n",
            "\n",
            "Epoch 00006: LearningRateScheduler setting learning rate to tf.Tensor(0.00012214028, shape=(), dtype=float32).\n",
            "100/100 [==============================] - 140s 1s/step - loss: 0.1197 - accuracy: 0.9609 - val_loss: 0.1924 - val_accuracy: 0.9362\n",
            "Epoch 7/100\n",
            "\n",
            "Epoch 00007: LearningRateScheduler setting learning rate to tf.Tensor(0.000110517096, shape=(), dtype=float32).\n",
            "100/100 [==============================] - 139s 1s/step - loss: 0.0991 - accuracy: 0.9688 - val_loss: 0.1787 - val_accuracy: 0.9375\n",
            "Epoch 8/100\n",
            "\n",
            "Epoch 00008: LearningRateScheduler setting learning rate to tf.Tensor(1e-04, shape=(), dtype=float32).\n",
            "100/100 [==============================] - 138s 1s/step - loss: 0.0891 - accuracy: 0.9728 - val_loss: 0.1731 - val_accuracy: 0.9413\n",
            "Epoch 9/100\n",
            "\n",
            "Epoch 00009: LearningRateScheduler setting learning rate to tf.Tensor(9.048374e-05, shape=(), dtype=float32).\n",
            "100/100 [==============================] - 140s 1s/step - loss: 0.0819 - accuracy: 0.9759 - val_loss: 0.1699 - val_accuracy: 0.9413\n",
            "Epoch 10/100\n",
            "\n",
            "Epoch 00010: LearningRateScheduler setting learning rate to tf.Tensor(8.187308e-05, shape=(), dtype=float32).\n",
            "100/100 [==============================] - 136s 1s/step - loss: 0.0764 - accuracy: 0.9786 - val_loss: 0.1677 - val_accuracy: 0.9400\n",
            "Epoch 11/100\n",
            "\n",
            "Epoch 00011: LearningRateScheduler setting learning rate to tf.Tensor(7.408182e-05, shape=(), dtype=float32).\n",
            "100/100 [==============================] - 134s 1s/step - loss: 0.0719 - accuracy: 0.9798 - val_loss: 0.1642 - val_accuracy: 0.9400\n",
            "Epoch 12/100\n",
            "\n",
            "Epoch 00012: LearningRateScheduler setting learning rate to tf.Tensor(6.7032e-05, shape=(), dtype=float32).\n",
            "100/100 [==============================] - 137s 1s/step - loss: 0.0679 - accuracy: 0.9820 - val_loss: 0.1642 - val_accuracy: 0.9400\n",
            "Epoch 13/100\n",
            "\n",
            "Epoch 00013: LearningRateScheduler setting learning rate to tf.Tensor(6.0653067e-05, shape=(), dtype=float32).\n",
            "100/100 [==============================] - 139s 1s/step - loss: 0.0646 - accuracy: 0.9834 - val_loss: 0.1642 - val_accuracy: 0.9425\n",
            "Epoch 14/100\n",
            "\n",
            "Epoch 00014: LearningRateScheduler setting learning rate to tf.Tensor(5.488116e-05, shape=(), dtype=float32).\n",
            "100/100 [==============================] - 137s 1s/step - loss: 0.0616 - accuracy: 0.9845 - val_loss: 0.1642 - val_accuracy: 0.9425\n",
            "Epoch 15/100\n",
            "\n",
            "Epoch 00015: LearningRateScheduler setting learning rate to tf.Tensor(4.965853e-05, shape=(), dtype=float32).\n",
            "100/100 [==============================] - 137s 1s/step - loss: 0.0590 - accuracy: 0.9852 - val_loss: 0.1651 - val_accuracy: 0.9438\n",
            "Epoch 16/100\n",
            "\n",
            "Epoch 00016: LearningRateScheduler setting learning rate to tf.Tensor(4.4932895e-05, shape=(), dtype=float32).\n",
            "100/100 [==============================] - 136s 1s/step - loss: 0.0567 - accuracy: 0.9861 - val_loss: 0.1649 - val_accuracy: 0.9438\n",
            "Epoch 00016: early stopping\n"
          ]
        }
      ]
    },
    {
      "cell_type": "code",
      "metadata": {
        "id": "jDvZ7LPa4px1"
      },
      "source": [
        "for spectrogram, _ in mel_spectrogram_ds.take(1):\n",
        "  input_shape = spectrogram.shape\n",
        "print('Input shape:', input_shape)\n",
        "num_labels = len(commands)\n",
        "\n",
        "norm_layer = preprocessing.Normalization()\n",
        "norm_layer.adapt(spectrogram_ds.map(lambda x, _: x))\n",
        "\n",
        "model_3conv = models.Sequential([\n",
        "    layers.Input(shape=input_shape),\n",
        "    norm_layer,\n",
        "    layers.Conv2D(64, kernel_size=(20,8), activation='relu'),\n",
        "    layers.MaxPooling2D(pool_size=(1,3)),\n",
        "    layers.BatchNormalization(),\n",
        "    layers.Conv2D(64, kernel_size=(10,4), activation='relu'),\n",
        "    layers.MaxPooling2D(),\n",
        "    layers.BatchNormalization(),\n",
        "    layers.Conv2D(32, kernel_size=(5,2), activation='relu'),\n",
        "    layers.MaxPooling2D(),\n",
        "    layers.BatchNormalization(),\n",
        "    layers.GlobalMaxPooling2D(),\n",
        "    layers.Flatten(),\n",
        "    layers.Dense(32, activation='relu'),\n",
        "    layers.Dropout(0.5),\n",
        "    layers.Dense(128, activation='relu'),\n",
        "    layers.Dense(num_labels),\n",
        "])\n",
        "\n",
        "model_3conv.summary()"
      ],
      "execution_count": null,
      "outputs": []
    },
    {
      "cell_type": "code",
      "metadata": {
        "id": "7BZ8u5kUGOyd"
      },
      "source": [
        "import datetime\n",
        "log_dir = \"logs/fit/\" + datetime.datetime.now().strftime(\"%Y%m%d-%H%M%S\")\n",
        "file_writer = tf.summary.create_file_writer(log_dir + '/metrics')\n",
        "file_writer_image = tf.summary.create_file_writer(log_dir + \"/images\")\n",
        "file_writer.set_as_default()\n",
        "tensorboard_callback = tf.keras.callbacks.TensorBoard(log_dir=log_dir, histogram_freq=1)"
      ],
      "execution_count": null,
      "outputs": []
    },
    {
      "cell_type": "code",
      "metadata": {
        "id": "dYw5exwP6qrS"
      },
      "source": [
        "def create_model(input_data,is_training,num_labels,dropout_rate):\n",
        "\n",
        "    for input, _ in input_data.take(1):\n",
        "       input_shape = input.shape\n",
        "    print('Input shape:', input_shape)\n",
        "    norm_layer = preprocessing.Normalization()\n",
        "    norm_layer.adapt(input_data.map(lambda x, _: x))\n",
        "\n",
        "    if is_training == True:\n",
        "\n",
        "       model = models.Sequential([\n",
        "           layers.Input(shape=input_shape),\n",
        "           norm_layer,\n",
        "           layers.Conv2D(64, kernel_size=(20,8), strides=(1,2),padding='valid', activation='relu',use_bias=True,bias_initializer='zeros'),\n",
        "           layers.MaxPooling2D(pool_size=(1,3)),\n",
        "           layers.BatchNormalization(),\n",
        "           layers.Conv2D(64, kernel_size=(10,4), padding='valid', activation='relu',use_bias=True,bias_initializer='zero'),\n",
        "           layers.MaxPooling2D(),\n",
        "           layers.BatchNormalization(),\n",
        "           layers.Flatten(),\n",
        "           layers.Dense(32),\n",
        "           layers.Dense(128, activation='relu'),\n",
        "           layers.Dropout(dropout_rate),\n",
        "           layers.Dense(num_labels),\n",
        "        ])\n",
        "    else:\n",
        "       model = models.Sequential([\n",
        "           layers.Input(shape=input_shape),\n",
        "           #preprocessing.Resizing(32, 40),\n",
        "           norm_layer,\n",
        "           layers.Conv2D(64, kernel_size=(20,8), activation='relu',use_bias=True,bias_initializer='zeros'),\n",
        "           layers.MaxPooling2D(pool_size=(1,3)),\n",
        "           layers.Conv2D(64, kernel_size=(10,4), activation='relu',use_bias=True,bias_initializer='zero'),\n",
        "           layers.MaxPooling2D(),\n",
        "           layers.Flatten(),\n",
        "           layers.Dense(128, activation='relu'),\n",
        "           layers.Dense(num_labels),\n",
        "        ])\n",
        "\n",
        "    return model\n",
        "\n"
      ],
      "execution_count": null,
      "outputs": []
    },
    {
      "cell_type": "code",
      "metadata": {
        "id": "svZmIClWI8Zi"
      },
      "source": [
        "def create_1convmodel(input_data,is_training,num_labels,dropout_rate):\n",
        "\n",
        "    for input, _ in input_data.take(1):\n",
        "       input_shape = input.shape\n",
        "    print('Input shape:', input_shape)\n",
        "    norm_layer = preprocessing.Normalization()\n",
        "    norm_layer.adapt(input_data.map(lambda x, _: x))\n",
        "\n",
        "    if is_training == True:\n",
        "\n",
        "       model = models.Sequential([\n",
        "           layers.Input(shape=input_shape),\n",
        "           #preprocessing.Resizing(32, 40),\n",
        "           norm_layer,\n",
        "           layers.Conv2D(64, kernel_size=(16,8), strides=(8,1),activation='relu',use_bias=True,bias_initializer='zeros'),\n",
        "           layers.MaxPooling2D(pool_size=(1,3)),\n",
        "           layers.BatchNormalization(),\n",
        "           layers.GlobalMaxPooling2D(),\n",
        "           layers.Flatten(),\n",
        "           layers.Dense(8,use_bias=True,bias_initializer='zeros'),\n",
        "           layers.Dense(128, activation='relu',use_bias=True,bias_initializer='zeros'),\n",
        "           layers.BatchNormalization(),\n",
        "           layers.Dense(128, activation='relu',use_bias=True,bias_initializer='zeros'),\n",
        "           layers.Dense(num_labels),\n",
        "        ])\n",
        "    else:\n",
        "       model = models.Sequential([\n",
        "           layers.Input(shape=input_shape),\n",
        "           preprocessing.Resizing(32, 40),\n",
        "           norm_layer,\n",
        "           layers.Conv2D(54, kernel_size=(32,8), activation='relu',use_bias=True,bias_initializer='zeros'),\n",
        "           layers.MaxPooling2D(pool_size=(1,3)),\n",
        "           layers.Flatten(),\n",
        "           layers.Dense(128, activation='relu'),\n",
        "           layers.Dense(num_labels),\n",
        "        ])\n",
        "\n",
        "    return model\n",
        "\n"
      ],
      "execution_count": null,
      "outputs": []
    },
    {
      "cell_type": "code",
      "metadata": {
        "id": "g4B3FaDoFg-u"
      },
      "source": [
        "def build_2cnnmodel(input_ds, image_size1,image_size2,padding='valid',pool1=(2,2), pool2=(2,2),dropout_rate1=0.5, dropout_rate2=0.5,\n",
        "                    strides1=(1,1),strides2=(1,1),cnn1_features=64,cnn2_features=32,dnn_features1=128, dnn_features2=128,\n",
        "                    kernel1_size=(3,3),kernel2_size=(3,3)):\n",
        "\n",
        "   for input,_ in input_ds.take(1):\n",
        "     input_shape = input.shape\n",
        "   num_labels = len(commands)\n",
        "\n",
        "   norm_layer = preprocessing.Normalization()\n",
        "   norm_layer.adapt(spectrogram_ds.map(lambda x, _: x))\n",
        "\n",
        "   model = models.Sequential([\n",
        "        layers.Input(shape=input_shape),\n",
        "        preprocessing.Resizing(image_size1,image_size2),\n",
        "        norm_layer,\n",
        "        layers.Conv2D(cnn1_features,padding=padding, kernel_size=kernel1_size, strides=strides1,activation='gelu',use_bias=True,bias_initializer='zeros'),\n",
        "        layers.MaxPool2D(pool_size=pool1),\n",
        "        layers.BatchNormalization(),\n",
        "        layers.Conv2D(cnn2_features, padding=padding,kernel_size=kernel2_size, strides=strides2,activation='gelu',use_bias=True,bias_initializer='zeros'),\n",
        "        layers.MaxPool2D(pool_size=pool2),\n",
        "        layers.BatchNormalization(),\n",
        "        layers.GlobalMaxPooling2D(),\n",
        "        layers.Flatten(),\n",
        "        layers.Dense(dnn_features2, activation='gelu',use_bias=True,bias_initializer='zeros'),\n",
        "        layers.Dense(dnn_features1, activation='gelu',use_bias=True,bias_initializer='zeros'),\n",
        "        layers.Dense(num_labels),])\n",
        "   model.summary()\n",
        "   return model\n",
        "\n",
        "def build_1cnnmodel(input_ds, image_size1,image_size2,padding='valid',pool1=(2,2), pool2=(2,2),dropout_rate1=0.5, dropout_rate2=0.5,\n",
        "                    strides1=(1,1),strides2=(1,1),cnn1_features=64,cnn2_features=32,dnn_features1=128, dnn_features2=128,\n",
        "                    kernel1_size=(3,3),kernel2_size=(3,3)):\n",
        "\n",
        "   for input,_ in input_ds.take(1):\n",
        "     input_shape = input.shape\n",
        "   num_labels = len(commands)\n",
        "\n",
        "   norm_layer = preprocessing.Normalization()\n",
        "   norm_layer.adapt(spectrogram_ds.map(lambda x, _: x))\n",
        "\n",
        "   model = models.Sequential([\n",
        "        layers.Input(shape=input_shape),\n",
        "        preprocessing.Resizing(image_size1,image_size2),\n",
        "        norm_layer,\n",
        "        layers.Conv2D(cnn1_features,padding=padding, kernel_size=kernel1_size, strides=strides1,activation='relu',use_bias=True,bias_initializer='zeros'),\n",
        "        layers.MaxPool2D(pool_size=pool1),\n",
        "        layers.BatchNormalization(),\n",
        "        layers.Flatten(),\n",
        "        layers.Dense(dnn_features2, activation=None,use_bias=True,bias_initializer='zeros'),\n",
        "        layers.Dense(dnn_features1, activation='relu',use_bias=True,bias_initializer='zeros'),\n",
        "        layers.Dense(num_labels),])\n",
        "   model.summary()\n",
        "   return model\n",
        "\n",
        "def getFeatureMap():\n",
        "    earlyPredictor = tf.keras.Model(test_model.inputs,test_model.get_layer(index=2).output)\n",
        "    feature_maps = earlyPredictor.predict(test_img)[0]\n",
        "    ix = 1\n",
        "    figure,axes = plt.subplots(8,8,figsize=(12,12))\n",
        "    for i  in range(64):\n",
        "       r = i // 8\n",
        "       c = i % 8\n",
        "       spectrogram = feature_maps[:,:,ix-1]\n",
        "       ax = axes[r][c]\n",
        "       ax.pcolormesh(40, 4, spectrogram)\n",
        "       ix += 1\n",
        "    return figure\n",
        "\n",
        "\n",
        "def plot_to_image(figure): #Convert the image into the tensor format\n",
        "  \"\"\"Converts the matplotlib plot specified by 'figure' to a PNG image and\n",
        "  returns it. The supplied figure is closed and inaccessible after this call.\"\"\"\n",
        "  # Save the plot to a PNG in memory.\n",
        "  buf = io.BytesIO()\n",
        "  plt.savefig(buf, format='png')\n",
        "  # Closing the figure prevents it from being displayed directly inside\n",
        "  # the notebook.\n",
        "  plt.close(figure)\n",
        "  buf.seek(0)\n",
        "  # Convert PNG buffer to TF image\n",
        "  image = tf.image.decode_png(buf.getvalue(), channels=4)\n",
        "  # Add the batch dimension\n",
        "  image = tf.expand_dims(image, 0)\n",
        "  return image\n",
        "\n",
        "\n",
        "def lr_scheduler(epoch, lr):\n",
        "    if epoch > 4:\n",
        "        lr = 0.0001 * tf.math.exp(0.1 * (7 - epoch))\n",
        "    tf.summary.scalar('learning rate', data=lr, step=epoch)\n",
        "    return lr\n",
        "\n",
        "\n",
        "def learningrate_scheduler_image(epoch,lr):\n",
        "  if epoch > 5:\n",
        "     lr = 0.0001\n",
        "  tf.summary.scalar('learning rate', data=lr, step=epoch)\n",
        "  figure = getFeatureMap()\n",
        "  with file_writer_image.as_default():\n",
        "    tf.summary.image(\"Feature Map\", plot_to_image(figure), step=epoch)\n",
        "  return lr\n",
        "\n",
        "def compile_model(model,learning_rate):\n",
        "  model.compile(\n",
        "    optimizer=tf.keras.optimizers.Adam(learning_rate=learning_rate),\n",
        "    loss=tf.keras.losses.SparseCategoricalCrossentropy(from_logits=True),\n",
        "    metrics=['accuracy'],)\n",
        "\n",
        "def compile_model_nadam(model,learning_rate):\n",
        "  model.compile(\n",
        "    optimizer=tf.keras.optimizers.Nadam(learning_rate=learning_rate),\n",
        "    loss=tf.keras.losses.SparseCategoricalCrossentropy(from_logits=True),\n",
        "    metrics=['accuracy'],)\n",
        "\n",
        "def train(model,callbacks,EPOCHS=100):\n",
        "  history = model.fit(\n",
        "    train_ds,\n",
        "    validation_data=val_ds,\n",
        "    epochs=EPOCHS,\n",
        "    callbacks=callbacks)\n",
        "  return history\n",
        "\n",
        "def plot_accuracy(history):\n",
        "  metrics = history.history\n",
        "  plt.plot(history.epoch, metrics['loss'], metrics['val_loss'])\n",
        "  plt.legend(['loss', 'val_loss'])\n",
        "  plt.show()\n",
        "\n",
        "def test_model(model,test_input,test_labels):\n",
        "\n",
        "   y_pred = np.argmax(model.predict(test_input), axis=1)\n",
        "   y_true = test_labels\n",
        "\n",
        "   test_acc = sum(y_pred == y_true) / len(y_true)\n",
        "   print(f'Test set accuracy: {test_acc:.0%}')\n",
        "\n",
        "   confusion_mtx = tf.math.confusion_matrix(y_true, y_pred)\n",
        "   plt.figure(figsize=(10, 8))\n",
        "   sns.heatmap(confusion_mtx, xticklabels=commands, yticklabels=commands,\n",
        "            annot=True, fmt='g')\n",
        "   plt.xlabel('Prediction')\n",
        "   plt.ylabel('Label')\n",
        "   plt.show()\n",
        "\n",
        "def inference(model, sample_file):\n",
        "   #sample_file = data_dir/'no/01bb6a2a_nohash_0.wav'\n",
        "   sample_ds = preprocess_dataset([str(sample_file)])\n",
        "   for spectrogram, label in sample_ds.batch(1):\n",
        "      prediction = model(spectrogram)\n",
        "      plt.bar(commands, tf.nn.softmax(prediction[0]))\n",
        "      plt.title(f'Predictions for \"{commands[label[0]]}\"')\n",
        "      plt.show()"
      ],
      "execution_count": null,
      "outputs": []
    },
    {
      "cell_type": "code",
      "metadata": {
        "id": "ATLErgYxGXhc"
      },
      "source": [
        "callbacks=[tf.keras.callbacks.EarlyStopping(verbose=1, patience=2),\n",
        "               tf.keras.callbacks.LearningRateScheduler(lr_scheduler, verbose=1),\n",
        "               tf.keras.callbacks.TensorBoard(log_dir=log_dir, histogram_freq=1,update_freq='batch'),]"
      ],
      "execution_count": null,
      "outputs": []
    },
    {
      "cell_type": "code",
      "metadata": {
        "id": "xFScPRv3GjZ_"
      },
      "source": [
        "callbacks=[tf.keras.callbacks.EarlyStopping(verbose=1, patience=2),\n",
        "               tf.keras.callbacks.LearningRateScheduler(learningrate_scheduler_image, verbose=1),\n",
        "               tf.keras.callbacks.TensorBoard(log_dir=log_dir, histogram_freq=1,update_freq='batch'),]"
      ],
      "execution_count": null,
      "outputs": []
    },
    {
      "cell_type": "code",
      "metadata": {
        "id": "01c_LC55Go7E"
      },
      "source": [
        "import datetime\n",
        "log_dir = \"logs/fit/\" + datetime.datetime.now().strftime(\"%Y%m%d-%H%M%S\")\n",
        "tensorboard_callback = tf.keras.callbacks.TensorBoard(log_dir=log_dir, histogram_freq=1)\n"
      ],
      "execution_count": null,
      "outputs": []
    },
    {
      "cell_type": "code",
      "metadata": {
        "id": "IhaNFcCU2NgB"
      },
      "source": [
        "for mfcc, _ in mfcc_ds.take(1):\n",
        "  input_shape = mfcc.shape\n",
        "print('Input shape:', input_shape)\n",
        "num_labels = len(commands)\n",
        "model_1mfcc = create_model(mfcc_ds,True,num_labels,dropout_rate=0.5)\n",
        "model_1mfcc.summary()"
      ],
      "execution_count": null,
      "outputs": []
    },
    {
      "cell_type": "code",
      "metadata": {
        "id": "IwvfySUphPrY"
      },
      "source": [
        "\n",
        "# Instantiate an optimizer.\n",
        "optimizer = tf.keras.optimizers.Adam()\n",
        "#def lr_scheduler(epoch, lr):\n",
        "#    if epoch > 4:\n",
        "#        lr = 0.0001 *  tf.math.exp(0.1 * (7 - epoch))\n",
        "#        return lr\n",
        "#    return lr\n",
        "\n",
        "lr_schedule = tf.keras.optimizers.schedules.ExponentialDecay(\n",
        "    initial_learning_rate=0.001,\n",
        "    decay_steps=10000,\n",
        "    decay_rate=0.9)\n",
        "\n",
        "model_mfcc.compile(\n",
        "    optimizer=tf.keras.optimizers.Adam(learning_rate=lr_schedule),\n",
        "    loss=tf.keras.losses.SparseCategoricalCrossentropy(from_logits=True),\n",
        "    metrics=['accuracy'],\n",
        ")\n",
        "\n",
        "\n",
        "#lr_schedule = tf.keras.optimizers.schedules.ExponentialDecay(\n",
        "#    initial_learning_rate,\n",
        "#    decay_steps=100000,\n",
        "#    decay_rate=0.96,\n",
        "#    staircase=True)\n",
        "\n",
        "EPOCHS = 100\n",
        "history = model_mfcc.fit(\n",
        "    train_ds,\n",
        "    validation_data=val_ds,\n",
        "    epochs=EPOCHS,\n",
        "    callbacks=[tf.keras.callbacks.EarlyStopping(verbose=1, patience=2),\n",
        "               tf.keras.callbacks.LearningRateScheduler(lr_scheduler, verbose=1),\n",
        "               tf.keras.callbacks.TensorBoard(log_dir=log_dir, histogram_freq=1),]\n",
        ")\n",
        "\n",
        "\n",
        "\n"
      ],
      "execution_count": null,
      "outputs": []
    },
    {
      "cell_type": "code",
      "metadata": {
        "colab": {
          "base_uri": "https://localhost:8080/"
        },
        "id": "mkH1QTZaMXNa",
        "outputId": "ff98664f-9c6a-459f-eab4-a7fca97a85a0"
      },
      "source": [
        "# Instantiate an optimizer.\n",
        "optimizer = tf.keras.optimizers.Adagrad()\n",
        "#def lr_scheduler(epoch, lr):\n",
        "#    if epoch > 4:\n",
        "#        lr = 0.0001 *  tf.math.exp(0.1 * (7 - epoch))\n",
        "#        return lr\n",
        "#    return lr\n",
        "\n",
        "#lr_schedule = tf.keras.optimizers.schedules.ExponentialDecay(\n",
        "#    initial_learning_rate=0.001,\n",
        "#    decay_steps=10000,\n",
        "#    decay_rate=0.9)\n",
        "\n",
        "model_mfcc.compile(\n",
        "    optimizer=tf.keras.optimizers.Adagrad(learning_rate=0.001,initial_accumulator_value=0.1,epsilon=1e-07),\n",
        "    loss=tf.keras.losses.SparseCategoricalCrossentropy(from_logits=True),\n",
        "    metrics=['accuracy'],\n",
        ")\n",
        "\n",
        "\n",
        "#lr_schedule = tf.keras.optimizers.schedules.ExponentialDecay(\n",
        "#    initial_learning_rate,\n",
        "#    decay_steps=100000,\n",
        "#    decay_rate=0.96,\n",
        "#    staircase=True)\n",
        "\n",
        "EPOCHS = 100\n",
        "history = model_mfcc.fit(\n",
        "    train_ds,\n",
        "    validation_data=val_ds,\n",
        "    epochs=EPOCHS,\n",
        "    callbacks=[tf.keras.callbacks.EarlyStopping(verbose=1, patience=2),\n",
        "            #   tf.keras.callbacks.LearningRateScheduler(lr_scheduler, verbose=1),\n",
        "               tf.keras.callbacks.TensorBoard(log_dir=log_dir, histogram_freq=1),]\n",
        ")\n"
      ],
      "execution_count": null,
      "outputs": [
        {
          "output_type": "stream",
          "name": "stdout",
          "text": [
            "Epoch 1/100\n",
            "100/100 [==============================] - 226s 2s/step - loss: 0.0455 - accuracy: 0.9877 - val_loss: 0.1517 - val_accuracy: 0.9525\n",
            "Epoch 2/100\n",
            "100/100 [==============================] - 226s 2s/step - loss: 0.0411 - accuracy: 0.9886 - val_loss: 0.1493 - val_accuracy: 0.9575\n",
            "Epoch 3/100\n",
            "100/100 [==============================] - 227s 2s/step - loss: 0.0381 - accuracy: 0.9908 - val_loss: 0.1486 - val_accuracy: 0.9588\n",
            "Epoch 4/100\n",
            "100/100 [==============================] - 226s 2s/step - loss: 0.0359 - accuracy: 0.9919 - val_loss: 0.1483 - val_accuracy: 0.9550\n",
            "Epoch 5/100\n",
            "100/100 [==============================] - 229s 2s/step - loss: 0.0342 - accuracy: 0.9923 - val_loss: 0.1481 - val_accuracy: 0.9538\n",
            "Epoch 6/100\n",
            "100/100 [==============================] - 226s 2s/step - loss: 0.0327 - accuracy: 0.9930 - val_loss: 0.1486 - val_accuracy: 0.9513\n",
            "Epoch 7/100\n",
            "100/100 [==============================] - 225s 2s/step - loss: 0.0315 - accuracy: 0.9934 - val_loss: 0.1486 - val_accuracy: 0.9513\n",
            "Epoch 00007: early stopping\n"
          ]
        }
      ]
    },
    {
      "cell_type": "code",
      "metadata": {
        "id": "wXrfOJbzOIHf",
        "colab": {
          "base_uri": "https://localhost:8080/"
        },
        "outputId": "877e2b0b-ad3b-45d4-efb8-c823d79895b6"
      },
      "source": [
        "test_audio = []\n",
        "test_labels = []\n",
        "\n",
        "for audio, label in test_ds:\n",
        "  test_audio.append(audio.numpy())\n",
        "  test_labels.append(label.numpy())\n",
        "\n",
        "test_audio = np.array(test_audio)\n",
        "test_labels = np.array(test_labels)\n",
        "\n",
        "y_pred = np.argmax(model_mfcc.predict(test_audio), axis=1)\n",
        "y_true = test_labels\n",
        "\n",
        "test_acc = sum(y_pred == y_true) / len(y_true)\n",
        "print(f'Test set accuracy: {test_acc:.0%}')"
      ],
      "execution_count": null,
      "outputs": [
        {
          "output_type": "stream",
          "name": "stdout",
          "text": [
            "Test set accuracy: 92%\n"
          ]
        }
      ]
    },
    {
      "cell_type": "code",
      "metadata": {
        "colab": {
          "base_uri": "https://localhost:8080/"
        },
        "id": "-F8M1fMmWTcA",
        "outputId": "c11157d8-c1f8-4ed4-858f-d8713b0fcbd2"
      },
      "source": [
        "  # Instantiate an optimizer.\n",
        "optimizer = tf.keras.optimizers.Adam()\n",
        "def lr_scheduler(epoch, lr):\n",
        "    if epoch > 4:\n",
        "        lr = 0.0001 *  tf.math.exp(0.1 * (7 - epoch))\n",
        "        return lr\n",
        "    return lr\n",
        "\n",
        "\n",
        "model_1mfcc.compile(\n",
        "    optimizer=tf.keras.optimizers.Adam(learning_rate=0.001),\n",
        "    loss=tf.keras.losses.SparseCategoricalCrossentropy(from_logits=True),\n",
        "    metrics=['accuracy'],\n",
        ")\n",
        "\n",
        "\n",
        "#lr_schedule = tf.keras.optimizers.schedules.ExponentialDecay(\n",
        "#    initial_learning_rate,\n",
        "#    decay_steps=100000,\n",
        "#    decay_rate=0.96,\n",
        "#    staircase=True)\n",
        "\n",
        "EPOCHS = 100\n",
        "history = model_1mfcc.fit(\n",
        "    train_ds,\n",
        "    validation_data=val_ds,\n",
        "    epochs=EPOCHS,\n",
        "    callbacks=[tf.keras.callbacks.EarlyStopping(verbose=1, patience=2),\n",
        "               tf.keras.callbacks.LearningRateScheduler(lr_scheduler, verbose=1),\n",
        "               tf.keras.callbacks.TensorBoard(log_dir=log_dir, histogram_freq=1),]\n",
        ")"
      ],
      "execution_count": null,
      "outputs": [
        {
          "output_type": "stream",
          "name": "stdout",
          "text": [
            "Epoch 1/100\n",
            "\n",
            "Epoch 00001: LearningRateScheduler setting learning rate to 0.0010000000474974513.\n",
            "100/100 [==============================] - 76s 751ms/step - loss: 1.9052 - accuracy: 0.3109 - val_loss: 2.0466 - val_accuracy: 0.1825\n",
            "Epoch 2/100\n",
            "\n",
            "Epoch 00002: LearningRateScheduler setting learning rate to 0.0010000000474974513.\n",
            "100/100 [==============================] - 49s 488ms/step - loss: 1.0947 - accuracy: 0.5936 - val_loss: 1.7043 - val_accuracy: 0.3713\n",
            "Epoch 3/100\n",
            "\n",
            "Epoch 00003: LearningRateScheduler setting learning rate to 0.0010000000474974513.\n",
            "100/100 [==============================] - 48s 484ms/step - loss: 0.7320 - accuracy: 0.7378 - val_loss: 0.7776 - val_accuracy: 0.7387\n",
            "Epoch 4/100\n",
            "\n",
            "Epoch 00004: LearningRateScheduler setting learning rate to 0.0010000000474974513.\n",
            "100/100 [==============================] - 48s 477ms/step - loss: 0.5720 - accuracy: 0.7983 - val_loss: 0.6194 - val_accuracy: 0.7725\n",
            "Epoch 5/100\n",
            "\n",
            "Epoch 00005: LearningRateScheduler setting learning rate to 0.0010000000474974513.\n",
            "100/100 [==============================] - 49s 486ms/step - loss: 0.4676 - accuracy: 0.8338 - val_loss: 0.4446 - val_accuracy: 0.8525\n",
            "Epoch 6/100\n",
            "\n",
            "Epoch 00006: LearningRateScheduler setting learning rate to tf.Tensor(0.00012214028, shape=(), dtype=float32).\n",
            "100/100 [==============================] - 49s 492ms/step - loss: 0.3354 - accuracy: 0.8830 - val_loss: 0.3148 - val_accuracy: 0.8925\n",
            "Epoch 7/100\n",
            "\n",
            "Epoch 00007: LearningRateScheduler setting learning rate to tf.Tensor(0.000110517096, shape=(), dtype=float32).\n",
            "100/100 [==============================] - 47s 475ms/step - loss: 0.2878 - accuracy: 0.9039 - val_loss: 0.2962 - val_accuracy: 0.8988\n",
            "Epoch 8/100\n",
            "\n",
            "Epoch 00008: LearningRateScheduler setting learning rate to tf.Tensor(1e-04, shape=(), dtype=float32).\n",
            "100/100 [==============================] - 48s 480ms/step - loss: 0.2649 - accuracy: 0.9092 - val_loss: 0.2834 - val_accuracy: 0.9075\n",
            "Epoch 9/100\n",
            "\n",
            "Epoch 00009: LearningRateScheduler setting learning rate to tf.Tensor(9.048374e-05, shape=(), dtype=float32).\n",
            "100/100 [==============================] - 48s 478ms/step - loss: 0.2518 - accuracy: 0.9119 - val_loss: 0.2793 - val_accuracy: 0.9062\n",
            "Epoch 10/100\n",
            "\n",
            "Epoch 00010: LearningRateScheduler setting learning rate to tf.Tensor(8.187308e-05, shape=(), dtype=float32).\n",
            "100/100 [==============================] - 49s 487ms/step - loss: 0.2373 - accuracy: 0.9214 - val_loss: 0.2862 - val_accuracy: 0.9038\n",
            "Epoch 11/100\n",
            "\n",
            "Epoch 00011: LearningRateScheduler setting learning rate to tf.Tensor(7.408182e-05, shape=(), dtype=float32).\n",
            "100/100 [==============================] - 47s 471ms/step - loss: 0.2291 - accuracy: 0.9252 - val_loss: 0.2699 - val_accuracy: 0.9100\n",
            "Epoch 12/100\n",
            "\n",
            "Epoch 00012: LearningRateScheduler setting learning rate to tf.Tensor(6.7032e-05, shape=(), dtype=float32).\n",
            "100/100 [==============================] - 48s 481ms/step - loss: 0.2167 - accuracy: 0.9298 - val_loss: 0.2705 - val_accuracy: 0.9112\n",
            "Epoch 13/100\n",
            "\n",
            "Epoch 00013: LearningRateScheduler setting learning rate to tf.Tensor(6.0653067e-05, shape=(), dtype=float32).\n",
            "100/100 [==============================] - 48s 484ms/step - loss: 0.2082 - accuracy: 0.9291 - val_loss: 0.2697 - val_accuracy: 0.9125\n",
            "Epoch 14/100\n",
            "\n",
            "Epoch 00014: LearningRateScheduler setting learning rate to tf.Tensor(5.488116e-05, shape=(), dtype=float32).\n",
            "100/100 [==============================] - 49s 487ms/step - loss: 0.2010 - accuracy: 0.9303 - val_loss: 0.2654 - val_accuracy: 0.9162\n",
            "Epoch 15/100\n",
            "\n",
            "Epoch 00015: LearningRateScheduler setting learning rate to tf.Tensor(4.965853e-05, shape=(), dtype=float32).\n",
            "100/100 [==============================] - 48s 485ms/step - loss: 0.1925 - accuracy: 0.9377 - val_loss: 0.2644 - val_accuracy: 0.9112\n",
            "Epoch 16/100\n",
            "\n",
            "Epoch 00016: LearningRateScheduler setting learning rate to tf.Tensor(4.4932895e-05, shape=(), dtype=float32).\n",
            "100/100 [==============================] - 48s 485ms/step - loss: 0.1875 - accuracy: 0.9417 - val_loss: 0.2621 - val_accuracy: 0.9112\n",
            "Epoch 17/100\n",
            "\n",
            "Epoch 00017: LearningRateScheduler setting learning rate to tf.Tensor(4.0656963e-05, shape=(), dtype=float32).\n",
            "100/100 [==============================] - 47s 475ms/step - loss: 0.1853 - accuracy: 0.9400 - val_loss: 0.2623 - val_accuracy: 0.9137\n",
            "Epoch 18/100\n",
            "\n",
            "Epoch 00018: LearningRateScheduler setting learning rate to tf.Tensor(3.6787944e-05, shape=(), dtype=float32).\n",
            "100/100 [==============================] - 49s 487ms/step - loss: 0.1738 - accuracy: 0.9448 - val_loss: 0.2610 - val_accuracy: 0.9150\n",
            "Epoch 19/100\n",
            "\n",
            "Epoch 00019: LearningRateScheduler setting learning rate to tf.Tensor(3.3287106e-05, shape=(), dtype=float32).\n",
            "100/100 [==============================] - 49s 489ms/step - loss: 0.1793 - accuracy: 0.9430 - val_loss: 0.2613 - val_accuracy: 0.9162\n",
            "Epoch 20/100\n",
            "\n",
            "Epoch 00020: LearningRateScheduler setting learning rate to tf.Tensor(3.0119418e-05, shape=(), dtype=float32).\n",
            "100/100 [==============================] - 47s 474ms/step - loss: 0.1687 - accuracy: 0.9475 - val_loss: 0.2577 - val_accuracy: 0.9162\n",
            "Epoch 21/100\n",
            "\n",
            "Epoch 00021: LearningRateScheduler setting learning rate to tf.Tensor(2.725318e-05, shape=(), dtype=float32).\n",
            "100/100 [==============================] - 49s 490ms/step - loss: 0.1649 - accuracy: 0.9475 - val_loss: 0.2559 - val_accuracy: 0.9175\n",
            "Epoch 22/100\n",
            "\n",
            "Epoch 00022: LearningRateScheduler setting learning rate to tf.Tensor(2.4659697e-05, shape=(), dtype=float32).\n",
            "100/100 [==============================] - 48s 484ms/step - loss: 0.1625 - accuracy: 0.9491 - val_loss: 0.2603 - val_accuracy: 0.9200\n",
            "Epoch 23/100\n",
            "\n",
            "Epoch 00023: LearningRateScheduler setting learning rate to tf.Tensor(2.2313016e-05, shape=(), dtype=float32).\n",
            "100/100 [==============================] - 49s 493ms/step - loss: 0.1626 - accuracy: 0.9488 - val_loss: 0.2598 - val_accuracy: 0.9162\n",
            "Epoch 00023: early stopping\n"
          ]
        }
      ]
    },
    {
      "cell_type": "code",
      "metadata": {
        "colab": {
          "base_uri": "https://localhost:8080/"
        },
        "id": "LQBX1UcPuchR",
        "outputId": "75c50c4d-92f4-43ca-a7ef-4ddc622dcbba"
      },
      "source": [
        "optimizer = tf.keras.optimizers.Adam()\n",
        "def lr_scheduler(epoch, lr):\n",
        "    if epoch > 4:\n",
        "        lr = 0.0001 *  tf.math.exp(0.1 * (7 - epoch))\n",
        "        return lr\n",
        "    return lr\n",
        "\n",
        "\n",
        "model.compile(\n",
        "    optimizer=tf.keras.optimizers.Adam(learning_rate=0.001),\n",
        "    loss=tf.keras.losses.SparseCategoricalCrossentropy(from_logits=True),\n",
        "    metrics=['accuracy'],\n",
        ")\n",
        "\n",
        "\n",
        "#lr_schedule = tf.keras.optimizers.schedules.ExponentialDecay(\n",
        "#    initial_learning_rate,\n",
        "#    decay_steps=100000,\n",
        "#    decay_rate=0.96,\n",
        "#    staircase=True)\n",
        "\n",
        "EPOCHS = 100\n",
        "history = model.fit(\n",
        "    train_ds,\n",
        "    validation_data=val_ds,\n",
        "    epochs=EPOCHS,\n",
        "    callbacks=[tf.keras.callbacks.EarlyStopping(verbose=1, patience=2),\n",
        "               tf.keras.callbacks.LearningRateScheduler(lr_scheduler, verbose=1),\n",
        "               tf.keras.callbacks.TensorBoard(log_dir=log_dir, histogram_freq=1),]\n",
        ")"
      ],
      "execution_count": null,
      "outputs": [
        {
          "output_type": "stream",
          "name": "stdout",
          "text": [
            "Epoch 1/100\n",
            "\n",
            "Epoch 00001: LearningRateScheduler setting learning rate to 0.0010000000474974513.\n",
            "100/100 [==============================] - 163s 2s/step - loss: 0.9667 - accuracy: 0.6858 - val_loss: 0.7873 - val_accuracy: 0.7625\n",
            "Epoch 2/100\n",
            "\n",
            "Epoch 00002: LearningRateScheduler setting learning rate to 0.0010000000474974513.\n",
            "100/100 [==============================] - 134s 1s/step - loss: 0.3625 - accuracy: 0.8855 - val_loss: 0.4512 - val_accuracy: 0.8487\n",
            "Epoch 3/100\n",
            "\n",
            "Epoch 00003: LearningRateScheduler setting learning rate to 0.0010000000474974513.\n",
            "100/100 [==============================] - 136s 1s/step - loss: 0.2894 - accuracy: 0.9052 - val_loss: 0.2939 - val_accuracy: 0.8975\n",
            "Epoch 4/100\n",
            "\n",
            "Epoch 00004: LearningRateScheduler setting learning rate to 0.0010000000474974513.\n",
            "100/100 [==============================] - 135s 1s/step - loss: 0.2217 - accuracy: 0.9237 - val_loss: 0.2922 - val_accuracy: 0.9050\n",
            "Epoch 5/100\n",
            "\n",
            "Epoch 00005: LearningRateScheduler setting learning rate to 0.0010000000474974513.\n",
            "100/100 [==============================] - 134s 1s/step - loss: 0.1873 - accuracy: 0.9372 - val_loss: 0.2030 - val_accuracy: 0.9388\n",
            "Epoch 6/100\n",
            "\n",
            "Epoch 00006: LearningRateScheduler setting learning rate to tf.Tensor(0.00012214028, shape=(), dtype=float32).\n",
            "100/100 [==============================] - 136s 1s/step - loss: 0.1155 - accuracy: 0.9625 - val_loss: 0.1587 - val_accuracy: 0.9525\n",
            "Epoch 7/100\n",
            "\n",
            "Epoch 00007: LearningRateScheduler setting learning rate to tf.Tensor(0.000110517096, shape=(), dtype=float32).\n",
            "100/100 [==============================] - 136s 1s/step - loss: 0.0965 - accuracy: 0.9697 - val_loss: 0.1541 - val_accuracy: 0.9500\n",
            "Epoch 8/100\n",
            "\n",
            "Epoch 00008: LearningRateScheduler setting learning rate to tf.Tensor(1e-04, shape=(), dtype=float32).\n",
            "100/100 [==============================] - 135s 1s/step - loss: 0.0881 - accuracy: 0.9722 - val_loss: 0.1509 - val_accuracy: 0.9513\n",
            "Epoch 9/100\n",
            "\n",
            "Epoch 00009: LearningRateScheduler setting learning rate to tf.Tensor(9.048374e-05, shape=(), dtype=float32).\n",
            "100/100 [==============================] - 135s 1s/step - loss: 0.0821 - accuracy: 0.9747 - val_loss: 0.1499 - val_accuracy: 0.9500\n",
            "Epoch 10/100\n",
            "\n",
            "Epoch 00010: LearningRateScheduler setting learning rate to tf.Tensor(8.187308e-05, shape=(), dtype=float32).\n",
            "100/100 [==============================] - 134s 1s/step - loss: 0.0769 - accuracy: 0.9772 - val_loss: 0.1488 - val_accuracy: 0.9500\n",
            "Epoch 11/100\n",
            "\n",
            "Epoch 00011: LearningRateScheduler setting learning rate to tf.Tensor(7.408182e-05, shape=(), dtype=float32).\n",
            "100/100 [==============================] - 135s 1s/step - loss: 0.0725 - accuracy: 0.9786 - val_loss: 0.1487 - val_accuracy: 0.9488\n",
            "Epoch 12/100\n",
            "\n",
            "Epoch 00012: LearningRateScheduler setting learning rate to tf.Tensor(6.7032e-05, shape=(), dtype=float32).\n",
            "100/100 [==============================] - 138s 1s/step - loss: 0.0687 - accuracy: 0.9798 - val_loss: 0.1484 - val_accuracy: 0.9475\n",
            "Epoch 13/100\n",
            "\n",
            "Epoch 00013: LearningRateScheduler setting learning rate to tf.Tensor(6.0653067e-05, shape=(), dtype=float32).\n",
            "100/100 [==============================] - 134s 1s/step - loss: 0.0655 - accuracy: 0.9811 - val_loss: 0.1477 - val_accuracy: 0.9475\n",
            "Epoch 14/100\n",
            "\n",
            "Epoch 00014: LearningRateScheduler setting learning rate to tf.Tensor(5.488116e-05, shape=(), dtype=float32).\n",
            "100/100 [==============================] - 134s 1s/step - loss: 0.0626 - accuracy: 0.9825 - val_loss: 0.1482 - val_accuracy: 0.9475\n",
            "Epoch 15/100\n",
            "\n",
            "Epoch 00015: LearningRateScheduler setting learning rate to tf.Tensor(4.965853e-05, shape=(), dtype=float32).\n",
            "100/100 [==============================] - 135s 1s/step - loss: 0.0601 - accuracy: 0.9833 - val_loss: 0.1473 - val_accuracy: 0.9463\n",
            "Epoch 16/100\n",
            "\n",
            "Epoch 00016: LearningRateScheduler setting learning rate to tf.Tensor(4.4932895e-05, shape=(), dtype=float32).\n",
            "100/100 [==============================] - 134s 1s/step - loss: 0.0579 - accuracy: 0.9839 - val_loss: 0.1467 - val_accuracy: 0.9475\n",
            "Epoch 17/100\n",
            "\n",
            "Epoch 00017: LearningRateScheduler setting learning rate to tf.Tensor(4.0656963e-05, shape=(), dtype=float32).\n",
            "100/100 [==============================] - 135s 1s/step - loss: 0.0559 - accuracy: 0.9844 - val_loss: 0.1469 - val_accuracy: 0.9475\n",
            "Epoch 18/100\n",
            "\n",
            "Epoch 00018: LearningRateScheduler setting learning rate to tf.Tensor(3.6787944e-05, shape=(), dtype=float32).\n",
            "100/100 [==============================] - 134s 1s/step - loss: 0.0540 - accuracy: 0.9850 - val_loss: 0.1476 - val_accuracy: 0.9463\n",
            "Epoch 00018: early stopping\n"
          ]
        }
      ]
    },
    {
      "cell_type": "code",
      "metadata": {
        "colab": {
          "base_uri": "https://localhost:8080/"
        },
        "id": "HXRvwjhsO4ix",
        "outputId": "716d83f6-6aa0-412e-ea0c-3f04b0f4bd18"
      },
      "source": [
        "optimizer = tf.keras.optimizers.Adam()\n",
        "def lr_scheduler(epoch, lr):\n",
        "    if epoch > 3:\n",
        "        lr = 0.0001 *  tf.math.exp(0.1 * (7 - epoch))\n",
        "        return lr\n",
        "    return lr\n",
        "\n",
        "\n",
        "model_3conv.compile(\n",
        "    optimizer=tf.keras.optimizers.Adam(learning_rate=0.001),\n",
        "    loss=tf.keras.losses.SparseCategoricalCrossentropy(from_logits=True),\n",
        "    metrics=['accuracy'],\n",
        ")\n",
        "\n",
        "\n",
        "#lr_schedule = tf.keras.optimizers.schedules.ExponentialDecay(\n",
        "#    initial_learning_rate,\n",
        "#    decay_steps=100000,\n",
        "#    decay_rate=0.96,\n",
        "#    staircase=True)\n",
        "\n",
        "EPOCHS = 100\n",
        "history_3conv = model_3conv.fit(\n",
        "    train_ds,\n",
        "    validation_data=val_ds,\n",
        "    epochs=EPOCHS,\n",
        "    callbacks=[tf.keras.callbacks.EarlyStopping(verbose=1, patience=2),\n",
        "               tf.keras.callbacks.LearningRateScheduler(lr_scheduler, verbose=1),\n",
        "               tf.keras.callbacks.TensorBoard(log_dir=log_dir, histogram_freq=1),]\n",
        ")"
      ],
      "execution_count": null,
      "outputs": [
        {
          "output_type": "stream",
          "name": "stdout",
          "text": [
            "Epoch 1/100\n",
            "\n",
            "Epoch 00001: LearningRateScheduler setting learning rate to 0.0010000000474974513.\n",
            "100/100 [==============================] - 138s 1s/step - loss: 1.5716 - accuracy: 0.4036 - val_loss: 1.0856 - val_accuracy: 0.6225\n",
            "Epoch 2/100\n",
            "\n",
            "Epoch 00002: LearningRateScheduler setting learning rate to 0.0010000000474974513.\n",
            "100/100 [==============================] - 139s 1s/step - loss: 0.8777 - accuracy: 0.6705 - val_loss: 0.5871 - val_accuracy: 0.8175\n",
            "Epoch 3/100\n",
            "\n",
            "Epoch 00003: LearningRateScheduler setting learning rate to 0.0010000000474974513.\n",
            "100/100 [==============================] - 138s 1s/step - loss: 0.6640 - accuracy: 0.7648 - val_loss: 0.4323 - val_accuracy: 0.8512\n",
            "Epoch 4/100\n",
            "\n",
            "Epoch 00004: LearningRateScheduler setting learning rate to 0.0010000000474974513.\n",
            "100/100 [==============================] - 136s 1s/step - loss: 0.5347 - accuracy: 0.8102 - val_loss: 0.4344 - val_accuracy: 0.8475\n",
            "Epoch 5/100\n",
            "\n",
            "Epoch 00005: LearningRateScheduler setting learning rate to tf.Tensor(0.00013498588, shape=(), dtype=float32).\n",
            "100/100 [==============================] - 138s 1s/step - loss: 0.4186 - accuracy: 0.8547 - val_loss: 0.2516 - val_accuracy: 0.9200\n",
            "Epoch 6/100\n",
            "\n",
            "Epoch 00006: LearningRateScheduler setting learning rate to tf.Tensor(0.00012214028, shape=(), dtype=float32).\n",
            "100/100 [==============================] - 138s 1s/step - loss: 0.3712 - accuracy: 0.8720 - val_loss: 0.2416 - val_accuracy: 0.9212\n",
            "Epoch 7/100\n",
            "\n",
            "Epoch 00007: LearningRateScheduler setting learning rate to tf.Tensor(0.000110517096, shape=(), dtype=float32).\n",
            "100/100 [==============================] - 139s 1s/step - loss: 0.3558 - accuracy: 0.8795 - val_loss: 0.2292 - val_accuracy: 0.9200\n",
            "Epoch 8/100\n",
            "\n",
            "Epoch 00008: LearningRateScheduler setting learning rate to tf.Tensor(1e-04, shape=(), dtype=float32).\n",
            "100/100 [==============================] - 139s 1s/step - loss: 0.3390 - accuracy: 0.8853 - val_loss: 0.2281 - val_accuracy: 0.9200\n",
            "Epoch 9/100\n",
            "\n",
            "Epoch 00009: LearningRateScheduler setting learning rate to tf.Tensor(9.048374e-05, shape=(), dtype=float32).\n",
            "100/100 [==============================] - 139s 1s/step - loss: 0.3229 - accuracy: 0.8911 - val_loss: 0.2109 - val_accuracy: 0.9312\n",
            "Epoch 10/100\n",
            "\n",
            "Epoch 00010: LearningRateScheduler setting learning rate to tf.Tensor(8.187308e-05, shape=(), dtype=float32).\n",
            "100/100 [==============================] - 137s 1s/step - loss: 0.3141 - accuracy: 0.8914 - val_loss: 0.2061 - val_accuracy: 0.9350\n",
            "Epoch 11/100\n",
            "\n",
            "Epoch 00011: LearningRateScheduler setting learning rate to tf.Tensor(7.408182e-05, shape=(), dtype=float32).\n",
            "100/100 [==============================] - 140s 1s/step - loss: 0.3047 - accuracy: 0.8967 - val_loss: 0.2041 - val_accuracy: 0.9312\n",
            "Epoch 12/100\n",
            "\n",
            "Epoch 00012: LearningRateScheduler setting learning rate to tf.Tensor(6.7032e-05, shape=(), dtype=float32).\n",
            "100/100 [==============================] - 138s 1s/step - loss: 0.3000 - accuracy: 0.8972 - val_loss: 0.1912 - val_accuracy: 0.9375\n",
            "Epoch 13/100\n",
            "\n",
            "Epoch 00013: LearningRateScheduler setting learning rate to tf.Tensor(6.0653067e-05, shape=(), dtype=float32).\n",
            "100/100 [==============================] - 138s 1s/step - loss: 0.2895 - accuracy: 0.9008 - val_loss: 0.1879 - val_accuracy: 0.9400\n",
            "Epoch 14/100\n",
            "\n",
            "Epoch 00014: LearningRateScheduler setting learning rate to tf.Tensor(5.488116e-05, shape=(), dtype=float32).\n",
            "100/100 [==============================] - 136s 1s/step - loss: 0.2780 - accuracy: 0.9023 - val_loss: 0.1904 - val_accuracy: 0.9300\n",
            "Epoch 15/100\n",
            "\n",
            "Epoch 00015: LearningRateScheduler setting learning rate to tf.Tensor(4.965853e-05, shape=(), dtype=float32).\n",
            "100/100 [==============================] - 137s 1s/step - loss: 0.2709 - accuracy: 0.9111 - val_loss: 0.1868 - val_accuracy: 0.9388\n",
            "Epoch 16/100\n",
            "\n",
            "Epoch 00016: LearningRateScheduler setting learning rate to tf.Tensor(4.4932895e-05, shape=(), dtype=float32).\n",
            "100/100 [==============================] - 137s 1s/step - loss: 0.2625 - accuracy: 0.9111 - val_loss: 0.1848 - val_accuracy: 0.9375\n",
            "Epoch 17/100\n",
            "\n",
            "Epoch 00017: LearningRateScheduler setting learning rate to tf.Tensor(4.0656963e-05, shape=(), dtype=float32).\n",
            "100/100 [==============================] - 136s 1s/step - loss: 0.2559 - accuracy: 0.9095 - val_loss: 0.1820 - val_accuracy: 0.9375\n",
            "Epoch 18/100\n",
            "\n",
            "Epoch 00018: LearningRateScheduler setting learning rate to tf.Tensor(3.6787944e-05, shape=(), dtype=float32).\n",
            "100/100 [==============================] - 136s 1s/step - loss: 0.2619 - accuracy: 0.9112 - val_loss: 0.1825 - val_accuracy: 0.9400\n",
            "Epoch 19/100\n",
            "\n",
            "Epoch 00019: LearningRateScheduler setting learning rate to tf.Tensor(3.3287106e-05, shape=(), dtype=float32).\n",
            "100/100 [==============================] - 138s 1s/step - loss: 0.2455 - accuracy: 0.9164 - val_loss: 0.1847 - val_accuracy: 0.9400\n",
            "Epoch 00019: early stopping\n"
          ]
        }
      ]
    },
    {
      "cell_type": "code",
      "metadata": {
        "colab": {
          "base_uri": "https://localhost:8080/",
          "height": 265
        },
        "id": "ya_E1g-U4vCK",
        "outputId": "8bd6b6ab-7ad3-426d-911f-788bba921329"
      },
      "source": [
        "metrics = history.history\n",
        "plt.plot(history.epoch, metrics['loss'], metrics['val_loss'])\n",
        "plt.legend(['loss', 'val_loss'])\n",
        "plt.show()"
      ],
      "execution_count": null,
      "outputs": [
        {
          "output_type": "display_data",
          "data": {
            "image/png": "[encoded data removed]",
            "text/plain": [
              "<Figure size 432x288 with 1 Axes>"
            ]
          },
          "metadata": {
            "needs_background": "light"
          }
        }
      ]
    },
    {
      "cell_type": "code",
      "metadata": {
        "colab": {
          "base_uri": "https://localhost:8080/"
        },
        "id": "1Dhf1F3ncg9j",
        "outputId": "5dea967c-4704-4389-9260-7379a048560d"
      },
      "source": [
        "test_audio = []\n",
        "test_labels = []\n",
        "\n",
        "for audio, label in test_ds:\n",
        "  test_audio.append(audio.numpy())\n",
        "  test_labels.append(label.numpy())\n",
        "\n",
        "test_audio = np.array(test_audio)\n",
        "test_labels = np.array(test_labels)\n",
        "\n",
        "y_pred = np.argmax(model_1mfcc.predict(test_audio), axis=1)\n",
        "y_true = test_labels\n",
        "\n",
        "test_acc = sum(y_pred == y_true) / len(y_true)\n",
        "print(f'Test set accuracy: {test_acc:.0%}')"
      ],
      "execution_count": null,
      "outputs": [
        {
          "output_type": "stream",
          "name": "stdout",
          "text": [
            "Test set accuracy: 90%\n"
          ]
        }
      ]
    },
    {
      "cell_type": "code",
      "metadata": {
        "id": "CiZkb3hPPDbT"
      },
      "source": [
        "metrics = history_3conv.history\n",
        "plt.plot(history.epoch, metrics['loss'], metrics['val_loss'])\n",
        "plt.legend(['loss', 'val_loss'])\n",
        "plt.show()"
      ],
      "execution_count": null,
      "outputs": []
    },
    {
      "cell_type": "code",
      "metadata": {
        "id": "rc_PozqpLW4N"
      },
      "source": [
        "%load_ext tensorboard"
      ],
      "execution_count": null,
      "outputs": []
    },
    {
      "cell_type": "code",
      "metadata": {
        "id": "rt0ewmRnJufG",
        "colab": {
          "base_uri": "https://localhost:8080/",
          "height": 821
        },
        "outputId": "100fb162-76b9-4b59-bdd0-39093fda4d8d"
      },
      "source": [
        "%tensorboard --logdir logs/fit"
      ],
      "execution_count": null,
      "outputs": []
    },
    {
      "cell_type": "code",
      "metadata": {
        "id": "Fpn7ZnrC4y7X",
        "colab": {
          "base_uri": "https://localhost:8080/"
        },
        "outputId": "f6558d18-7a77-48ac-b586-bbca9528f278"
      },
      "source": [
        "test_audio = []\n",
        "test_labels = []\n",
        "\n",
        "for audio, label in test_ds:\n",
        "  test_audio.append(audio.numpy())\n",
        "  test_labels.append(label.numpy())\n",
        "\n",
        "test_audio = np.array(test_audio)\n",
        "test_labels = np.array(test_labels)\n",
        "\n",
        "y_pred = np.argmax(model.predict(test_audio), axis=1)\n",
        "y_true = test_labels\n",
        "\n",
        "test_acc = sum(y_pred == y_true) / len(y_true)\n",
        "print(f'Test set accuracy: {test_acc:.0%}')"
      ],
      "execution_count": null,
      "outputs": [
        {
          "output_type": "stream",
          "name": "stdout",
          "text": [
            "Test set accuracy: 95%\n"
          ]
        }
      ]
    },
    {
      "cell_type": "code",
      "metadata": {
        "colab": {
          "base_uri": "https://localhost:8080/",
          "height": 231
        },
        "id": "7oO8sO0APMJ7",
        "outputId": "ba10a8ff-4a93-4c77-eb4a-e65c977bdcda"
      },
      "source": [
        "test_audio = []\n",
        "test_labels = []\n",
        "\n",
        "for audio, label in test_ds:\n",
        "  test_audio.append(audio.numpy())\n",
        "  test_labels.append(label.numpy())\n",
        "\n",
        "test_audio = np.array(test_audio)\n",
        "test_labels = np.array(test_labels)\n",
        "\n",
        "y_pred = np.argmax(model_3conv.predict(test_audio), axis=1)\n",
        "y_true = test_labels\n",
        "\n",
        "test_acc = sum(y_pred == y_true) / len(y_true)\n",
        "print(f'Test set accuracy: {test_acc:.0%}')"
      ],
      "execution_count": null,
      "outputs": [
        {
          "output_type": "error",
          "ename": "NameError",
          "evalue": "ignored",
          "traceback": [
            "\u001b[0;31m---------------------------------------------------------------------------\u001b[0m",
            "\u001b[0;31mNameError\u001b[0m                                 Traceback (most recent call last)",
            "\u001b[0;32m<ipython-input-34-4c131fa0da5b>\u001b[0m in \u001b[0;36m<module>\u001b[0;34m()\u001b[0m\n\u001b[1;32m      9\u001b[0m \u001b[0mtest_labels\u001b[0m \u001b[0;34m=\u001b[0m \u001b[0mnp\u001b[0m\u001b[0;34m.\u001b[0m\u001b[0marray\u001b[0m\u001b[0;34m(\u001b[0m\u001b[0mtest_labels\u001b[0m\u001b[0;34m)\u001b[0m\u001b[0;34m\u001b[0m\u001b[0;34m\u001b[0m\u001b[0m\n\u001b[1;32m     10\u001b[0m \u001b[0;34m\u001b[0m\u001b[0m\n\u001b[0;32m---> 11\u001b[0;31m \u001b[0my_pred\u001b[0m \u001b[0;34m=\u001b[0m \u001b[0mnp\u001b[0m\u001b[0;34m.\u001b[0m\u001b[0margmax\u001b[0m\u001b[0;34m(\u001b[0m\u001b[0mmodel_3conv\u001b[0m\u001b[0;34m.\u001b[0m\u001b[0mpredict\u001b[0m\u001b[0;34m(\u001b[0m\u001b[0mtest_audio\u001b[0m\u001b[0;34m)\u001b[0m\u001b[0;34m,\u001b[0m \u001b[0maxis\u001b[0m\u001b[0;34m=\u001b[0m\u001b[0;36m1\u001b[0m\u001b[0;34m)\u001b[0m\u001b[0;34m\u001b[0m\u001b[0;34m\u001b[0m\u001b[0m\n\u001b[0m\u001b[1;32m     12\u001b[0m \u001b[0my_true\u001b[0m \u001b[0;34m=\u001b[0m \u001b[0mtest_labels\u001b[0m\u001b[0;34m\u001b[0m\u001b[0;34m\u001b[0m\u001b[0m\n\u001b[1;32m     13\u001b[0m \u001b[0;34m\u001b[0m\u001b[0m\n",
            "\u001b[0;31mNameError\u001b[0m: name 'model_3conv' is not defined"
          ]
        }
      ]
    },
    {
      "cell_type": "code",
      "metadata": {
        "id": "hB92CvpV3tDd",
        "colab": {
          "base_uri": "https://localhost:8080/"
        },
        "outputId": "0dbfa180-ad64-4cdc-d7b5-bf4d768a2514"
      },
      "source": [
        "test_audio = []\n",
        "test_labels = []\n",
        "\n",
        "for audio, label in test_ds:\n",
        "  test_audio.append(audio.numpy())\n",
        "  test_labels.append(label.numpy())\n",
        "\n",
        "test_audio = np.array(test_audio)\n",
        "test_labels = np.array(test_labels)\n",
        "\n",
        "y_pred = np.argmax(model_mfcc.predict(test_audio), axis=1)\n",
        "y_true = test_labels\n",
        "\n",
        "test_acc = sum(y_pred == y_true) / len(y_true)\n",
        "print(f'Test set accuracy: {test_acc:.0%}')\n"
      ],
      "execution_count": null,
      "outputs": [
        {
          "output_type": "stream",
          "name": "stdout",
          "text": [
            "Test set accuracy: 94%\n"
          ]
        }
      ]
    },
    {
      "cell_type": "code",
      "metadata": {
        "colab": {
          "base_uri": "https://localhost:8080/",
          "height": 497
        },
        "id": "OCww0gzL405o",
        "outputId": "849ee7c6-a9b6-4412-e2b0-a60f8d23eed0"
      },
      "source": [
        "confusion_mtx = tf.math.confusion_matrix(y_true, y_pred)\n",
        "plt.figure(figsize=(10, 8))\n",
        "sns.heatmap(confusion_mtx, xticklabels=commands, yticklabels=commands,\n",
        "            annot=True, fmt='g')\n",
        "plt.xlabel('Prediction')\n",
        "plt.ylabel('Label')\n",
        "plt.show()"
      ],
      "execution_count": null,
      "outputs": [
        {
          "output_type": "display_data",
          "data": {
            "image/png": "[encoded data removed]",
            "text/plain": [
              "<Figure size 720x576 with 2 Axes>"
            ]
          },
          "metadata": {
            "needs_background": "light"
          }
        }
      ]
    },
    {
      "cell_type": "code",
      "metadata": {
        "colab": {
          "base_uri": "https://localhost:8080/",
          "height": 332
        },
        "id": "ufGAvL_jdU59",
        "outputId": "eadca878-4d5b-4eb7-e1c9-fc8add02e341"
      },
      "source": [
        "sample_file = data_dir/'no/0132a06d_nohash_1.wav'\n",
        "#sample_file = data_dir/'go/004ae714_nohash_0.wav'\n",
        "#sample_file = data_dir/'left/00b01445_nohash_0.wav'\n",
        "sample_ds =  preprocess_meldataset([str(sample_file)])\n",
        "\n",
        "\n",
        "for spectrogram, label in sample_ds.batch(1):\n",
        "  prediction = model_mfcc(spectrogram)\n",
        "  plt.bar(commands, tf.nn.softmax(prediction[0]))\n",
        "  plt.title(f'Predictions for \"{commands[label[0]]}\"')\n",
        "  plt.show()\n"
      ],
      "execution_count": null,
      "outputs": [
        {
          "output_type": "stream",
          "name": "stdout",
          "text": [
            "Spectrogram shape: (98, 257)\n",
            "number of mel_bands 257\n",
            "mel_spectrogram_shape (98, 40)\n"
          ]
        },
        {
          "output_type": "display_data",
          "data": {
            "image/png": "[encoded data removed]",
            "text/plain": [
              "<Figure size 432x288 with 1 Axes>"
            ]
          },
          "metadata": {
            "needs_background": "light"
          }
        }
      ]
    },
    {
      "cell_type": "code",
      "metadata": {
        "colab": {
          "base_uri": "https://localhost:8080/",
          "height": 332
        },
        "id": "4Ypr90g4BpGl",
        "outputId": "21c0bfb5-07d9-4f4a-90ae-c0031c55eab5"
      },
      "source": [
        "#run inference\n",
        "\n",
        "sample_file = data_dir/'no/0132a06d_nohash_1.wav'\n",
        "#sample_file = data_dir/'go/004ae714_nohash_0.wav'\n",
        "#sample_file = data_dir/'left/00b01445_nohash_0.wav'\n",
        "sample_ds =  preprocess_meldataset([str(sample_file)])\n",
        "\n",
        "\n",
        "for spectrogram, label in sample_ds.batch(1):\n",
        "  prediction = model(spectrogram)\n",
        "  plt.bar(commands, tf.nn.softmax(prediction[0]))\n",
        "  plt.title(f'Predictions for \"{commands[label[0]]}\"')\n",
        "  plt.show()\n",
        "\n"
      ],
      "execution_count": null,
      "outputs": [
        {
          "output_type": "stream",
          "name": "stdout",
          "text": [
            "Spectrogram shape: (98, 257)\n",
            "number of mel_bands 257\n",
            "mel_spectrogram_shape (98, 40)\n"
          ]
        },
        {
          "output_type": "display_data",
          "data": {
            "image/png": "[encoded data removed]",
            "text/plain": [
              "<Figure size 432x288 with 1 Axes>"
            ]
          },
          "metadata": {
            "needs_background": "light"
          }
        }
      ]
    },
    {
      "cell_type": "code",
      "metadata": {
        "id": "uX8FKItJ43dj"
      },
      "source": [
        "\n",
        "#run inference\n",
        "\n",
        "sample_file = data_dir/'no/0132a06d_nohash_1.wav'\n",
        "#sample_file = data_dir/'go/004ae714_nohash_0.wav'\n",
        "#sample_file = data_dir/'left/00b01445_nohash_0.wav'\n",
        "sample_ds = preprocess_mfccdataset([str(sample_file)])\n",
        "\n",
        "\n",
        "for spectrogram, label in sample_ds.batch(1):\n",
        "  prediction = model_inf(spectrogram)\n",
        "  plt.bar(commands, tf.nn.softmax(prediction[0]))\n",
        "  plt.title(f'Predictions for \"{commands[label[0]]}\"')\n",
        "  plt.show()\n"
      ],
      "execution_count": null,
      "outputs": []
    },
    {
      "cell_type": "code",
      "metadata": {
        "id": "Uodg8K5hJJZl",
        "colab": {
          "base_uri": "https://localhost:8080/"
        },
        "outputId": "b4e90657-e9e2-47f5-95bb-c1dc59b92c49"
      },
      "source": [
        "for mfcc, _ in mfcc_ds.take(1):\n",
        "  input_shape = mfcc.shape\n",
        "print('Input shape:', input_shape)\n",
        "num_labels = len(commands)\n",
        "model_1mfcc = create_1convmodel(mfcc_ds,True,num_labels,dropout_rate=0.5)\n",
        "model_1mfcc.summary()"
      ],
      "execution_count": null,
      "outputs": [
        {
          "output_type": "stream",
          "name": "stdout",
          "text": [
            "Input shape: (98, 40, 1)\n",
            "Input shape: (98, 40, 1)\n",
            "Model: \"sequential_3\"\n",
            "_________________________________________________________________\n",
            "Layer (type)                 Output Shape              Param #   \n",
            "=================================================================\n",
            "normalization_3 (Normalizati (None, 98, 40, 1)         3         \n",
            "_________________________________________________________________\n",
            "conv2d_6 (Conv2D)            (None, 11, 33, 64)        8256      \n",
            "_________________________________________________________________\n",
            "max_pooling2d_5 (MaxPooling2 (None, 11, 11, 64)        0         \n",
            "_________________________________________________________________\n",
            "batch_normalization_6 (Batch (None, 11, 11, 64)        256       \n",
            "_________________________________________________________________\n",
            "flatten_3 (Flatten)          (None, 7744)              0         \n",
            "_________________________________________________________________\n",
            "dense_9 (Dense)              (None, 8)                 61960     \n",
            "_________________________________________________________________\n",
            "dense_10 (Dense)             (None, 128)               1152      \n",
            "_________________________________________________________________\n",
            "batch_normalization_7 (Batch (None, 128)               512       \n",
            "_________________________________________________________________\n",
            "dense_11 (Dense)             (None, 128)               16512     \n",
            "_________________________________________________________________\n",
            "dense_12 (Dense)             (None, 8)                 1032      \n",
            "=================================================================\n",
            "Total params: 89,683\n",
            "Trainable params: 89,296\n",
            "Non-trainable params: 387\n",
            "_________________________________________________________________\n"
          ]
        }
      ]
    },
    {
      "cell_type": "code",
      "metadata": {
        "id": "rdTumXPdJJ2q",
        "colab": {
          "base_uri": "https://localhost:8080/"
        },
        "outputId": "2c49477f-c913-413a-b142-f74dcffcc9e3"
      },
      "source": [
        "\n",
        "# Instantiate an optimizer.\n",
        "optimizer = tf.keras.optimizers.Adam()\n",
        "def lr_scheduler(epoch, lr):\n",
        "    if epoch > 5:\n",
        "        lr = 0.0001\n",
        "        return lr\n",
        "    return lr\n",
        "\n",
        "\n",
        "model_1mfcc.compile(\n",
        "    optimizer=tf.keras.optimizers.Adam(learning_rate=0.001),\n",
        "    loss=tf.keras.losses.SparseCategoricalCrossentropy(from_logits=True),\n",
        "    metrics=['accuracy'],\n",
        ")\n",
        "\n",
        "\n",
        "#lr_schedule = tf.keras.optimizers.schedules.ExponentialDecay(\n",
        "#    initial_learning_rate,\n",
        "#    decay_steps=100000,\n",
        "#    decay_rate=0.96,\n",
        "#    staircase=True)\n",
        "\n",
        "EPOCHS = 100\n",
        "history = model_1mfcc.fit(\n",
        "    train_ds,\n",
        "    validation_data=val_ds,\n",
        "    epochs=EPOCHS,\n",
        "    callbacks=[tf.keras.callbacks.EarlyStopping(verbose=1, patience=2),\n",
        "               tf.keras.callbacks.LearningRateScheduler(lr_scheduler, verbose=1),\n",
        "               tf.keras.callbacks.TensorBoard(log_dir=log_dir, histogram_freq=1),]\n",
        ")\n",
        "\n",
        "\n",
        "\n"
      ],
      "execution_count": null,
      "outputs": [
        {
          "output_type": "stream",
          "name": "stdout",
          "text": [
            "Epoch 1/100\n",
            "\n",
            "Epoch 00001: LearningRateScheduler setting learning rate to 0.0010000000474974513.\n",
            "100/100 [==============================] - 8s 73ms/step - loss: 1.6564 - accuracy: 0.3769 - val_loss: 1.8160 - val_accuracy: 0.2775\n",
            "Epoch 2/100\n",
            "\n",
            "Epoch 00002: LearningRateScheduler setting learning rate to 0.0010000000474974513.\n",
            "100/100 [==============================] - 7s 68ms/step - loss: 0.9870 - accuracy: 0.6413 - val_loss: 1.5867 - val_accuracy: 0.3500\n",
            "Epoch 3/100\n",
            "\n",
            "Epoch 00003: LearningRateScheduler setting learning rate to 0.0010000000474974513.\n",
            "100/100 [==============================] - 7s 68ms/step - loss: 0.7095 - accuracy: 0.7467 - val_loss: 1.0580 - val_accuracy: 0.6237\n",
            "Epoch 4/100\n",
            "\n",
            "Epoch 00004: LearningRateScheduler setting learning rate to 0.0010000000474974513.\n",
            "100/100 [==============================] - 7s 68ms/step - loss: 0.5534 - accuracy: 0.8023 - val_loss: 0.7652 - val_accuracy: 0.7350\n",
            "Epoch 5/100\n",
            "\n",
            "Epoch 00005: LearningRateScheduler setting learning rate to 0.0010000000474974513.\n",
            "100/100 [==============================] - 7s 66ms/step - loss: 0.4684 - accuracy: 0.8391 - val_loss: 0.6923 - val_accuracy: 0.7688\n",
            "Epoch 6/100\n",
            "\n",
            "Epoch 00006: LearningRateScheduler setting learning rate to 0.0010000000474974513.\n",
            "100/100 [==============================] - 7s 68ms/step - loss: 0.3893 - accuracy: 0.8666 - val_loss: 0.6688 - val_accuracy: 0.7675\n",
            "Epoch 7/100\n",
            "\n",
            "Epoch 00007: LearningRateScheduler setting learning rate to 0.0001.\n",
            "100/100 [==============================] - 7s 67ms/step - loss: 0.2946 - accuracy: 0.9016 - val_loss: 0.4606 - val_accuracy: 0.8462\n",
            "Epoch 8/100\n",
            "\n",
            "Epoch 00008: LearningRateScheduler setting learning rate to 0.0001.\n",
            "100/100 [==============================] - 7s 68ms/step - loss: 0.2474 - accuracy: 0.9192 - val_loss: 0.4524 - val_accuracy: 0.8450\n",
            "Epoch 9/100\n",
            "\n",
            "Epoch 00009: LearningRateScheduler setting learning rate to 0.0001.\n",
            "100/100 [==============================] - 7s 66ms/step - loss: 0.2312 - accuracy: 0.9259 - val_loss: 0.4486 - val_accuracy: 0.8438\n",
            "Epoch 10/100\n",
            "\n",
            "Epoch 00010: LearningRateScheduler setting learning rate to 0.0001.\n",
            "100/100 [==============================] - 7s 69ms/step - loss: 0.2179 - accuracy: 0.9317 - val_loss: 0.4487 - val_accuracy: 0.8475\n",
            "Epoch 11/100\n",
            "\n",
            "Epoch 00011: LearningRateScheduler setting learning rate to 0.0001.\n",
            "100/100 [==============================] - 7s 65ms/step - loss: 0.2063 - accuracy: 0.9359 - val_loss: 0.4474 - val_accuracy: 0.8500\n",
            "Epoch 12/100\n",
            "\n",
            "Epoch 00012: LearningRateScheduler setting learning rate to 0.0001.\n",
            "100/100 [==============================] - 7s 67ms/step - loss: 0.1952 - accuracy: 0.9392 - val_loss: 0.4469 - val_accuracy: 0.8487\n",
            "Epoch 13/100\n",
            "\n",
            "Epoch 00013: LearningRateScheduler setting learning rate to 0.0001.\n",
            "100/100 [==============================] - 7s 70ms/step - loss: 0.1849 - accuracy: 0.9450 - val_loss: 0.4480 - val_accuracy: 0.8500\n",
            "Epoch 14/100\n",
            "\n",
            "Epoch 00014: LearningRateScheduler setting learning rate to 0.0001.\n",
            "100/100 [==============================] - 7s 69ms/step - loss: 0.1747 - accuracy: 0.9491 - val_loss: 0.4496 - val_accuracy: 0.8537\n",
            "Epoch 00014: early stopping\n"
          ]
        }
      ]
    },
    {
      "cell_type": "code",
      "metadata": {
        "colab": {
          "base_uri": "https://localhost:8080/"
        },
        "id": "KOe5Hf9aM178",
        "outputId": "17156b6f-f0c2-4129-93b4-0a513886e882"
      },
      "source": [
        "y_pred = np.argmax(model_1mfcc.predict(test_audio), axis=1)\n",
        "y_true = test_labels\n",
        "\n",
        "test_acc = sum(y_pred == y_true) / len(y_true)\n",
        "print(f'Test set accuracy: {test_acc:.0%}')\n"
      ],
      "execution_count": null,
      "outputs": [
        {
          "output_type": "stream",
          "text": [
            "Test set accuracy: 86%\n"
          ],
          "name": "stdout"
        }
      ]
    },
    {
      "cell_type": "code",
      "metadata": {
        "id": "Wl4VuNO0Mw8g"
      },
      "source": [
        "confusion_mtx = tf.math.confusion_matrix(y_true, y_pred)\n",
        "plt.figure(figsize=(10, 8))\n",
        "sns.heatmap(confusion_mtx, xticklabels=commands, yticklabels=commands,\n",
        "            annot=True, fmt='g')\n",
        "plt.xlabel('Prediction')\n",
        "plt.ylabel('Label')\n",
        "plt.show()"
      ],
      "execution_count": null,
      "outputs": []
    },
    {
      "cell_type": "code",
      "metadata": {
        "id": "t6AtkFu1LL12",
        "colab": {
          "base_uri": "https://localhost:8080/"
        },
        "outputId": "04ec34dc-4fe0-4312-e633-3da420d94216"
      },
      "source": [
        "model_1cnn_tstride8 = build_1cnnmodel(mfcc_ds,32,40,padding='same',pool1=(1,3), pool2=(1,1),dropout_rate1=0.5, dropout_rate2=0.5,\n",
        "                    strides1=(8,1),strides2=(1,1),cnn1_features=54,cnn2_features=32,dnn_features1=128, dnn_features2=32,\n",
        "                    kernel1_size=(16,8),kernel2_size=(5,4))"
      ],
      "execution_count": null,
      "outputs": [
        {
          "output_type": "stream",
          "name": "stdout",
          "text": [
            "Model: \"sequential_4\"\n",
            "_________________________________________________________________\n",
            "Layer (type)                 Output Shape              Param #   \n",
            "=================================================================\n",
            "resizing (Resizing)          (None, 32, 40, 1)         0         \n",
            "_________________________________________________________________\n",
            "normalization_4 (Normalizati (None, 32, 40, 1)         3         \n",
            "_________________________________________________________________\n",
            "conv2d_7 (Conv2D)            (None, 4, 40, 54)         6966      \n",
            "_________________________________________________________________\n",
            "max_pooling2d_6 (MaxPooling2 (None, 4, 13, 54)         0         \n",
            "_________________________________________________________________\n",
            "batch_normalization_8 (Batch (None, 4, 13, 54)         216       \n",
            "_________________________________________________________________\n",
            "flatten_4 (Flatten)          (None, 2808)              0         \n",
            "_________________________________________________________________\n",
            "dense_13 (Dense)             (None, 32)                89888     \n",
            "_________________________________________________________________\n",
            "dense_14 (Dense)             (None, 128)               4224      \n",
            "_________________________________________________________________\n",
            "dense_15 (Dense)             (None, 8)                 1032      \n",
            "=================================================================\n",
            "Total params: 102,329\n",
            "Trainable params: 102,218\n",
            "Non-trainable params: 111\n",
            "_________________________________________________________________\n"
          ]
        }
      ]
    },
    {
      "cell_type": "code",
      "metadata": {
        "id": "GTAuvniXLoeN",
        "colab": {
          "base_uri": "https://localhost:8080/",
          "height": 486
        },
        "outputId": "54946cf0-3aed-4a71-c20a-e1f65e4786fb"
      },
      "source": [
        "compile_model(model_1cnn_tstride8,0.001)\n",
        "history_tstride8 = train(model_1cnn_tstride8,callbacks)\n",
        "plot_accuracy(history_tstride8)"
      ],
      "execution_count": null,
      "outputs": [
        {
          "output_type": "stream",
          "name": "stdout",
          "text": [
            "Epoch 1/100\n",
            "\n",
            "Epoch 00001: LearningRateScheduler setting learning rate to 0.0010000000474974513.\n",
            "100/100 [==============================] - 5s 40ms/step - loss: 0.2891 - accuracy: 0.8980 - val_loss: 0.4888 - val_accuracy: 0.8275\n",
            "Epoch 2/100\n",
            "\n",
            "Epoch 00002: LearningRateScheduler setting learning rate to 0.0010000000474974513.\n",
            "100/100 [==============================] - 4s 38ms/step - loss: 0.2371 - accuracy: 0.9187 - val_loss: 0.5638 - val_accuracy: 0.8313\n",
            "Epoch 3/100\n",
            "\n",
            "Epoch 00003: LearningRateScheduler setting learning rate to 0.0010000000474974513.\n",
            "100/100 [==============================] - 4s 38ms/step - loss: 0.2071 - accuracy: 0.9294 - val_loss: 0.4895 - val_accuracy: 0.8500\n",
            "Epoch 00003: early stopping\n"
          ]
        },
        {
          "output_type": "display_data",
          "data": {
            "image/png": "[encoded data removed]",
            "text/plain": [
              "<Figure size 432x288 with 1 Axes>"
            ]
          },
          "metadata": {
            "needs_background": "light"
          }
        }
      ]
    },
    {
      "cell_type": "code",
      "metadata": {
        "colab": {
          "base_uri": "https://localhost:8080/"
        },
        "id": "OZn4O-m9QXM8",
        "outputId": "4bdbe81c-5144-456d-a1a6-c8f1e78bd4bc"
      },
      "source": [
        "y_pred = np.argmax(model_1cnn_tstride8.predict(test_audio), axis=1)\n",
        "y_true = test_labels\n",
        "\n",
        "test_acc = sum(y_pred == y_true) / len(y_true)\n",
        "print(f'Test set accuracy: {test_acc:.0%}')"
      ],
      "execution_count": null,
      "outputs": [
        {
          "output_type": "stream",
          "name": "stdout",
          "text": [
            "Test set accuracy: 82%\n"
          ]
        }
      ]
    },
    {
      "cell_type": "code",
      "metadata": {
        "id": "yuwLCHKvG8mo",
        "colab": {
          "base_uri": "https://localhost:8080/"
        },
        "outputId": "88418df6-8699-4cb1-b598-613774657b35"
      },
      "source": [
        "model_cnn_tstride8_dr = build_2cnnmodel(mfcc_ds,98,40,padding='same',pool1=(1,3), pool2=(1,1),dropout_rate1=0.25, dropout_rate2=0.5,\n",
        "                    strides1=(1,1),strides2=(1,1),cnn1_features=64,cnn2_features=64,dnn_features1=128, dnn_features2=32,\n",
        "                    kernel1_size=(20,8),kernel2_size=(10,4))"
      ],
      "execution_count": null,
      "outputs": [
        {
          "output_type": "stream",
          "name": "stdout",
          "text": [
            "Model: \"sequential_6\"\n",
            "_________________________________________________________________\n",
            "Layer (type)                 Output Shape              Param #   \n",
            "=================================================================\n",
            "resizing_5 (Resizing)        (None, 98, 40, 1)         0         \n",
            "_________________________________________________________________\n",
            "normalization_6 (Normalizati (None, 98, 40, 1)         3         \n",
            "_________________________________________________________________\n",
            "conv2d_12 (Conv2D)           (None, 98, 40, 64)        10304     \n",
            "_________________________________________________________________\n",
            "max_pooling2d_12 (MaxPooling (None, 98, 13, 64)        0         \n",
            "_________________________________________________________________\n",
            "batch_normalization_12 (Batc (None, 98, 13, 64)        256       \n",
            "_________________________________________________________________\n",
            "conv2d_13 (Conv2D)           (None, 98, 13, 64)        163904    \n",
            "_________________________________________________________________\n",
            "max_pooling2d_13 (MaxPooling (None, 98, 13, 64)        0         \n",
            "_________________________________________________________________\n",
            "batch_normalization_13 (Batc (None, 98, 13, 64)        256       \n",
            "_________________________________________________________________\n",
            "global_max_pooling2d_5 (Glob (None, 64)                0         \n",
            "_________________________________________________________________\n",
            "flatten_6 (Flatten)          (None, 64)                0         \n",
            "_________________________________________________________________\n",
            "dense_18 (Dense)             (None, 32)                2080      \n",
            "_________________________________________________________________\n",
            "dense_19 (Dense)             (None, 128)               4224      \n",
            "_________________________________________________________________\n",
            "dense_20 (Dense)             (None, 8)                 1032      \n",
            "=================================================================\n",
            "Total params: 182,059\n",
            "Trainable params: 181,800\n",
            "Non-trainable params: 259\n",
            "_________________________________________________________________\n"
          ]
        }
      ]
    },
    {
      "cell_type": "code",
      "metadata": {
        "id": "0EPBSm8wHafh",
        "colab": {
          "base_uri": "https://localhost:8080/",
          "height": 1000
        },
        "outputId": "228813c0-a03e-4e6a-a4a6-572a5bb32570"
      },
      "source": [
        "compile_model(model_cnn_tstride8_dr,0.001)\n",
        "history_tstride8_dr = train(model_cnn_tstride8_dr,callbacks)\n",
        "plot_accuracy(history_tstride8_dr)"
      ],
      "execution_count": null,
      "outputs": [
        {
          "output_type": "stream",
          "name": "stdout",
          "text": [
            "Epoch 1/100\n",
            "\n",
            "Epoch 00001: LearningRateScheduler setting learning rate to 0.0010000000474974513.\n",
            "100/100 [==============================] - 302s 3s/step - loss: 1.2825 - accuracy: 0.5587 - val_loss: 0.8084 - val_accuracy: 0.7713\n",
            "Epoch 2/100\n",
            "\n",
            "Epoch 00002: LearningRateScheduler setting learning rate to 0.0010000000474974513.\n",
            "100/100 [==============================] - 301s 3s/step - loss: 0.4119 - accuracy: 0.8628 - val_loss: 0.5723 - val_accuracy: 0.8050\n",
            "Epoch 3/100\n",
            "\n",
            "Epoch 00003: LearningRateScheduler setting learning rate to 0.0010000000474974513.\n",
            "100/100 [==============================] - 302s 3s/step - loss: 0.2529 - accuracy: 0.9167 - val_loss: 0.4748 - val_accuracy: 0.8288\n",
            "Epoch 4/100\n",
            "\n",
            "Epoch 00004: LearningRateScheduler setting learning rate to 0.0010000000474974513.\n",
            "100/100 [==============================] - 301s 3s/step - loss: 0.1882 - accuracy: 0.9347 - val_loss: 0.3262 - val_accuracy: 0.9112\n",
            "Epoch 5/100\n",
            "\n",
            "Epoch 00005: LearningRateScheduler setting learning rate to 0.0010000000474974513.\n",
            "100/100 [==============================] - 301s 3s/step - loss: 0.1565 - accuracy: 0.9444 - val_loss: 0.3620 - val_accuracy: 0.8975\n",
            "Epoch 6/100\n",
            "\n",
            "Epoch 00006: LearningRateScheduler setting learning rate to tf.Tensor(0.00012214028, shape=(), dtype=float32).\n",
            "100/100 [==============================] - 301s 3s/step - loss: 0.0945 - accuracy: 0.9681 - val_loss: 0.1922 - val_accuracy: 0.9400\n",
            "Epoch 7/100\n",
            "\n",
            "Epoch 00007: LearningRateScheduler setting learning rate to tf.Tensor(0.000110517096, shape=(), dtype=float32).\n",
            "100/100 [==============================] - 301s 3s/step - loss: 0.0678 - accuracy: 0.9803 - val_loss: 0.1762 - val_accuracy: 0.9388\n",
            "Epoch 8/100\n",
            "\n",
            "Epoch 00008: LearningRateScheduler setting learning rate to tf.Tensor(1e-04, shape=(), dtype=float32).\n",
            "100/100 [==============================] - 301s 3s/step - loss: 0.0586 - accuracy: 0.9837 - val_loss: 0.1697 - val_accuracy: 0.9413\n",
            "Epoch 9/100\n",
            "\n",
            "Epoch 00009: LearningRateScheduler setting learning rate to tf.Tensor(9.048374e-05, shape=(), dtype=float32).\n",
            "100/100 [==============================] - 302s 3s/step - loss: 0.0525 - accuracy: 0.9859 - val_loss: 0.1681 - val_accuracy: 0.9413\n",
            "Epoch 10/100\n",
            "\n",
            "Epoch 00010: LearningRateScheduler setting learning rate to tf.Tensor(8.187308e-05, shape=(), dtype=float32).\n",
            "100/100 [==============================] - 301s 3s/step - loss: 0.0480 - accuracy: 0.9873 - val_loss: 0.1678 - val_accuracy: 0.9413\n",
            "Epoch 11/100\n",
            "\n",
            "Epoch 00011: LearningRateScheduler setting learning rate to tf.Tensor(7.408182e-05, shape=(), dtype=float32).\n",
            "100/100 [==============================] - 302s 3s/step - loss: 0.0445 - accuracy: 0.9891 - val_loss: 0.1688 - val_accuracy: 0.9425\n",
            "Epoch 12/100\n",
            "\n",
            "Epoch 00012: LearningRateScheduler setting learning rate to tf.Tensor(6.7032e-05, shape=(), dtype=float32).\n",
            "100/100 [==============================] - 301s 3s/step - loss: 0.0416 - accuracy: 0.9897 - val_loss: 0.1694 - val_accuracy: 0.9438\n",
            "Epoch 00012: early stopping\n"
          ]
        },
        {
          "output_type": "display_data",
          "data": {
            "image/png": "[encoded data removed]",
            "text/plain": [
              "<Figure size 432x288 with 1 Axes>"
            ]
          },
          "metadata": {
            "needs_background": "light"
          }
        }
      ]
    },
    {
      "cell_type": "code",
      "metadata": {
        "colab": {
          "base_uri": "https://localhost:8080/"
        },
        "id": "UMj1pesRK69f",
        "outputId": "e767a75d-2a6f-4ea1-ed7f-01a585229043"
      },
      "source": [
        "\n",
        "test_audio = []\n",
        "test_labels = []\n",
        "\n",
        "for audio, label in test_ds:\n",
        "  test_audio.append(audio.numpy())\n",
        "  test_labels.append(label.numpy())\n",
        "\n",
        "test_audio = np.array(test_audio)\n",
        "test_labels = np.array(test_labels)\n",
        "\n",
        "y_pred = np.argmax(model_cnn_tstride8_dr.predict(test_audio), axis=1)\n",
        "y_true = test_labels\n",
        "\n",
        "test_acc = sum(y_pred == y_true) / len(y_true)\n",
        "print(f'Test set accuracy: {test_acc:.0%}')"
      ],
      "execution_count": null,
      "outputs": [
        {
          "output_type": "stream",
          "name": "stdout",
          "text": [
            "Test set accuracy: 94%\n"
          ]
        }
      ]
    },
    {
      "cell_type": "code",
      "metadata": {
        "id": "UPJGIR7MLaMp",
        "colab": {
          "base_uri": "https://localhost:8080/",
          "height": 497
        },
        "outputId": "1118c95a-52c9-4b25-d8b2-f3c2f3a3a38e"
      },
      "source": [
        "confusion_mtx = tf.math.confusion_matrix(y_true, y_pred)\n",
        "plt.figure(figsize=(10, 8))\n",
        "sns.heatmap(confusion_mtx, xticklabels=commands, yticklabels=commands,\n",
        "            annot=True, fmt='g')\n",
        "plt.xlabel('Prediction')\n",
        "plt.ylabel('Label')\n",
        "plt.show()"
      ],
      "execution_count": null,
      "outputs": [
        {
          "output_type": "display_data",
          "data": {
            "image/png": "[encoded data removed]",
            "text/plain": [
              "<Figure size 720x576 with 2 Axes>"
            ]
          },
          "metadata": {
            "needs_background": "light"
          }
        }
      ]
    }
  ]
}